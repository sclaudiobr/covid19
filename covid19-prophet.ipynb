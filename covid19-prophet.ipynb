{
  "nbformat": 4,
  "nbformat_minor": 0,
  "metadata": {
    "colab": {
      "name": "covid_19.ipynb",
      "provenance": [],
      "collapsed_sections": [],
      "authorship_tag": "ABX9TyNV9b7sKYzxbEPYfBD1CiVi",
      "include_colab_link": true
    },
    "kernelspec": {
      "name": "python3",
      "display_name": "Python 3"
    }
  },
  "cells": [
    {
      "cell_type": "markdown",
      "metadata": {
        "id": "view-in-github",
        "colab_type": "text"
      },
      "source": [
        "<a href=\"https://colab.research.google.com/github/sclaudiobr/covid2019/blob/master/covid19-prophet.ipynb\" target=\"_parent\"><img src=\"https://colab.research.google.com/assets/colab-badge.svg\" alt=\"Open In Colab\"/></a>"
      ]
    },
    {
      "cell_type": "markdown",
      "metadata": {
        "id": "s-IC-eXCdLJW"
      },
      "source": [
        "# Prophet - previsão de dados com framework prophet\n",
        "\n",
        "## Formato de dados e colunas\n",
        "<p> datas (ds)\n",
        "<p> variável (y)\n",
        "\n",
        "*por: Claudio R. O da Silva*"
      ]
    },
    {
      "cell_type": "code",
      "metadata": {
        "id": "8F5BhWkfaozS"
      },
      "source": [
        "import pandas as pd\n",
        "import numpy as np\n",
        "from fbprophet import Prophet"
      ],
      "execution_count": 1,
      "outputs": []
    },
    {
      "cell_type": "code",
      "metadata": {
        "id": "s6OWQOiRa3dX"
      },
      "source": [
        "import requests\n",
        "r =requests.get('https://data.brasil.io/dataset/covid19/caso.csv.gz', allow_redirects=True)\n",
        "open('caso.csv.gz', 'wb').write(r.content)\n",
        "df = pd.read_csv(\"caso.csv.gz\", compression='gzip')\n",
        "\n",
        "df.head()\n",
        "covid = df"
      ],
      "execution_count": 6,
      "outputs": []
    },
    {
      "cell_type": "code",
      "metadata": {
        "id": "kjsSaPQpbPE9"
      },
      "source": [
        "covid.tail()"
      ],
      "execution_count": null,
      "outputs": []
    },
    {
      "cell_type": "code",
      "metadata": {
        "id": "oF7gAJj7bRoz"
      },
      "source": [
        "#covid.rename(columns ={'ObservationDate':'Date','Country/Region':'Country'}, inplace=True)\n",
        "covid.rename(columns ={'date':'Date','state':'Country','deaths':'Deaths','confirmed':'Confirmed'}, inplace=True)"
      ],
      "execution_count": 8,
      "outputs": []
    },
    {
      "cell_type": "code",
      "metadata": {
        "id": "OZUPpW_yb0H1",
        "colab": {
          "base_uri": "https://localhost:8080/",
          "height": 226
        },
        "outputId": "9a0f927a-dbc8-4003-a46a-9521bdce63fe"
      },
      "source": [
        "covid.tail()"
      ],
      "execution_count": 9,
      "outputs": [
        {
          "output_type": "execute_result",
          "data": {
            "text/html": [
              "<div>\n",
              "<style scoped>\n",
              "    .dataframe tbody tr th:only-of-type {\n",
              "        vertical-align: middle;\n",
              "    }\n",
              "\n",
              "    .dataframe tbody tr th {\n",
              "        vertical-align: top;\n",
              "    }\n",
              "\n",
              "    .dataframe thead th {\n",
              "        text-align: right;\n",
              "    }\n",
              "</style>\n",
              "<table border=\"1\" class=\"dataframe\">\n",
              "  <thead>\n",
              "    <tr style=\"text-align: right;\">\n",
              "      <th></th>\n",
              "      <th>Date</th>\n",
              "      <th>Country</th>\n",
              "      <th>city</th>\n",
              "      <th>place_type</th>\n",
              "      <th>Confirmed</th>\n",
              "      <th>Deaths</th>\n",
              "      <th>order_for_place</th>\n",
              "      <th>is_last</th>\n",
              "      <th>estimated_population_2019</th>\n",
              "      <th>estimated_population</th>\n",
              "      <th>city_ibge_code</th>\n",
              "      <th>confirmed_per_100k_inhabitants</th>\n",
              "      <th>death_rate</th>\n",
              "    </tr>\n",
              "  </thead>\n",
              "  <tbody>\n",
              "    <tr>\n",
              "      <th>1233415</th>\n",
              "      <td>2020-06-23</td>\n",
              "      <td>SP</td>\n",
              "      <td>Óleo</td>\n",
              "      <td>city</td>\n",
              "      <td>1</td>\n",
              "      <td>0</td>\n",
              "      <td>5</td>\n",
              "      <td>False</td>\n",
              "      <td>2496.0</td>\n",
              "      <td>2471.0</td>\n",
              "      <td>3533809.0</td>\n",
              "      <td>40.46945</td>\n",
              "      <td>0.0</td>\n",
              "    </tr>\n",
              "    <tr>\n",
              "      <th>1233416</th>\n",
              "      <td>2020-06-22</td>\n",
              "      <td>SP</td>\n",
              "      <td>Óleo</td>\n",
              "      <td>city</td>\n",
              "      <td>1</td>\n",
              "      <td>0</td>\n",
              "      <td>4</td>\n",
              "      <td>False</td>\n",
              "      <td>2496.0</td>\n",
              "      <td>2471.0</td>\n",
              "      <td>3533809.0</td>\n",
              "      <td>40.46945</td>\n",
              "      <td>0.0</td>\n",
              "    </tr>\n",
              "    <tr>\n",
              "      <th>1233417</th>\n",
              "      <td>2020-06-21</td>\n",
              "      <td>SP</td>\n",
              "      <td>Óleo</td>\n",
              "      <td>city</td>\n",
              "      <td>1</td>\n",
              "      <td>0</td>\n",
              "      <td>3</td>\n",
              "      <td>False</td>\n",
              "      <td>2496.0</td>\n",
              "      <td>2471.0</td>\n",
              "      <td>3533809.0</td>\n",
              "      <td>40.46945</td>\n",
              "      <td>0.0</td>\n",
              "    </tr>\n",
              "    <tr>\n",
              "      <th>1233418</th>\n",
              "      <td>2020-06-20</td>\n",
              "      <td>SP</td>\n",
              "      <td>Óleo</td>\n",
              "      <td>city</td>\n",
              "      <td>1</td>\n",
              "      <td>0</td>\n",
              "      <td>2</td>\n",
              "      <td>False</td>\n",
              "      <td>2496.0</td>\n",
              "      <td>2471.0</td>\n",
              "      <td>3533809.0</td>\n",
              "      <td>40.46945</td>\n",
              "      <td>0.0</td>\n",
              "    </tr>\n",
              "    <tr>\n",
              "      <th>1233419</th>\n",
              "      <td>2020-06-19</td>\n",
              "      <td>SP</td>\n",
              "      <td>Óleo</td>\n",
              "      <td>city</td>\n",
              "      <td>1</td>\n",
              "      <td>0</td>\n",
              "      <td>1</td>\n",
              "      <td>False</td>\n",
              "      <td>2496.0</td>\n",
              "      <td>2471.0</td>\n",
              "      <td>3533809.0</td>\n",
              "      <td>40.46945</td>\n",
              "      <td>0.0</td>\n",
              "    </tr>\n",
              "  </tbody>\n",
              "</table>\n",
              "</div>"
            ],
            "text/plain": [
              "               Date Country  ... confirmed_per_100k_inhabitants death_rate\n",
              "1233415  2020-06-23      SP  ...                       40.46945        0.0\n",
              "1233416  2020-06-22      SP  ...                       40.46945        0.0\n",
              "1233417  2020-06-21      SP  ...                       40.46945        0.0\n",
              "1233418  2020-06-20      SP  ...                       40.46945        0.0\n",
              "1233419  2020-06-19      SP  ...                       40.46945        0.0\n",
              "\n",
              "[5 rows x 13 columns]"
            ]
          },
          "metadata": {
            "tags": []
          },
          "execution_count": 9
        }
      ]
    },
    {
      "cell_type": "code",
      "metadata": {
        "id": "43j2he-svooM"
      },
      "source": [
        "from datetime import datetime as dt"
      ],
      "execution_count": 11,
      "outputs": []
    },
    {
      "cell_type": "code",
      "metadata": {
        "id": "y8yroDdFb5u0"
      },
      "source": [
        "# numero de mortes\n",
        "mortes = covid.groupby('Date').sum()['Deaths'].reset_index()\n",
        "mortes.tail()\n",
        "mortes['Date'] = pd.to_datetime(mortes['Date'])"
      ],
      "execution_count": 12,
      "outputs": []
    },
    {
      "cell_type": "code",
      "metadata": {
        "id": "QybuowzGJOdT"
      },
      "source": [
        "confirmados = covid.groupby('Date').sum()['Confirmed'].reset_index()\n",
        "confirmados.tail()\n",
        "confirmados['Date'] = pd.to_datetime(confirmados['Date'])"
      ],
      "execution_count": 13,
      "outputs": []
    },
    {
      "cell_type": "code",
      "metadata": {
        "id": "GOP1Zko1KN2O"
      },
      "source": [
        "confirmados.columns = ['ds','y']"
      ],
      "execution_count": 14,
      "outputs": []
    },
    {
      "cell_type": "code",
      "metadata": {
        "id": "iwrAiwZpcvy6",
        "colab": {
          "base_uri": "https://localhost:8080/",
          "height": 206
        },
        "outputId": "d03a6c86-6ae0-4a19-aa51-e00e43614ba7"
      },
      "source": [
        "# tratamento dos dados para o prophet - renomeando\n",
        "mortes.columns = ['ds','y']\n",
        "mortes.tail()"
      ],
      "execution_count": 15,
      "outputs": [
        {
          "output_type": "execute_result",
          "data": {
            "text/html": [
              "<div>\n",
              "<style scoped>\n",
              "    .dataframe tbody tr th:only-of-type {\n",
              "        vertical-align: middle;\n",
              "    }\n",
              "\n",
              "    .dataframe tbody tr th {\n",
              "        vertical-align: top;\n",
              "    }\n",
              "\n",
              "    .dataframe thead th {\n",
              "        text-align: right;\n",
              "    }\n",
              "</style>\n",
              "<table border=\"1\" class=\"dataframe\">\n",
              "  <thead>\n",
              "    <tr style=\"text-align: right;\">\n",
              "      <th></th>\n",
              "      <th>ds</th>\n",
              "      <th>y</th>\n",
              "    </tr>\n",
              "  </thead>\n",
              "  <tbody>\n",
              "    <tr>\n",
              "      <th>307</th>\n",
              "      <td>2020-12-28</td>\n",
              "      <td>352781</td>\n",
              "    </tr>\n",
              "    <tr>\n",
              "      <th>308</th>\n",
              "      <td>2020-12-29</td>\n",
              "      <td>348015</td>\n",
              "    </tr>\n",
              "    <tr>\n",
              "      <th>309</th>\n",
              "      <td>2020-12-30</td>\n",
              "      <td>299889</td>\n",
              "    </tr>\n",
              "    <tr>\n",
              "      <th>310</th>\n",
              "      <td>2020-12-31</td>\n",
              "      <td>264686</td>\n",
              "    </tr>\n",
              "    <tr>\n",
              "      <th>311</th>\n",
              "      <td>2021-01-01</td>\n",
              "      <td>196142</td>\n",
              "    </tr>\n",
              "  </tbody>\n",
              "</table>\n",
              "</div>"
            ],
            "text/plain": [
              "            ds       y\n",
              "307 2020-12-28  352781\n",
              "308 2020-12-29  348015\n",
              "309 2020-12-30  299889\n",
              "310 2020-12-31  264686\n",
              "311 2021-01-01  196142"
            ]
          },
          "metadata": {
            "tags": []
          },
          "execution_count": 15
        }
      ]
    },
    {
      "cell_type": "code",
      "metadata": {
        "id": "l9tbAG0OKdrd",
        "colab": {
          "base_uri": "https://localhost:8080/",
          "height": 206
        },
        "outputId": "2939884c-73e3-4212-9aa8-2c07e4b8444b"
      },
      "source": [
        "confirmados['ds'] = pd.to_datetime(confirmados['ds'])\n",
        "confirmados.tail()"
      ],
      "execution_count": 16,
      "outputs": [
        {
          "output_type": "execute_result",
          "data": {
            "text/html": [
              "<div>\n",
              "<style scoped>\n",
              "    .dataframe tbody tr th:only-of-type {\n",
              "        vertical-align: middle;\n",
              "    }\n",
              "\n",
              "    .dataframe tbody tr th {\n",
              "        vertical-align: top;\n",
              "    }\n",
              "\n",
              "    .dataframe thead th {\n",
              "        text-align: right;\n",
              "    }\n",
              "</style>\n",
              "<table border=\"1\" class=\"dataframe\">\n",
              "  <thead>\n",
              "    <tr style=\"text-align: right;\">\n",
              "      <th></th>\n",
              "      <th>ds</th>\n",
              "      <th>y</th>\n",
              "    </tr>\n",
              "  </thead>\n",
              "  <tbody>\n",
              "    <tr>\n",
              "      <th>307</th>\n",
              "      <td>2020-12-28</td>\n",
              "      <td>13567398</td>\n",
              "    </tr>\n",
              "    <tr>\n",
              "      <th>308</th>\n",
              "      <td>2020-12-29</td>\n",
              "      <td>13316638</td>\n",
              "    </tr>\n",
              "    <tr>\n",
              "      <th>309</th>\n",
              "      <td>2020-12-30</td>\n",
              "      <td>11790716</td>\n",
              "    </tr>\n",
              "    <tr>\n",
              "      <th>310</th>\n",
              "      <td>2020-12-31</td>\n",
              "      <td>10650489</td>\n",
              "    </tr>\n",
              "    <tr>\n",
              "      <th>311</th>\n",
              "      <td>2021-01-01</td>\n",
              "      <td>7652456</td>\n",
              "    </tr>\n",
              "  </tbody>\n",
              "</table>\n",
              "</div>"
            ],
            "text/plain": [
              "            ds         y\n",
              "307 2020-12-28  13567398\n",
              "308 2020-12-29  13316638\n",
              "309 2020-12-30  11790716\n",
              "310 2020-12-31  10650489\n",
              "311 2021-01-01   7652456"
            ]
          },
          "metadata": {
            "tags": []
          },
          "execution_count": 16
        }
      ]
    },
    {
      "cell_type": "code",
      "metadata": {
        "id": "jel6oakgd8rV",
        "colab": {
          "base_uri": "https://localhost:8080/",
          "height": 206
        },
        "outputId": "dffb62f2-be58-42ea-cd8a-7a6960a2f1c9"
      },
      "source": [
        "# formatando data\n",
        "mortes['ds'] = pd.to_datetime(mortes['ds'])\n",
        "mortes.tail()"
      ],
      "execution_count": 17,
      "outputs": [
        {
          "output_type": "execute_result",
          "data": {
            "text/html": [
              "<div>\n",
              "<style scoped>\n",
              "    .dataframe tbody tr th:only-of-type {\n",
              "        vertical-align: middle;\n",
              "    }\n",
              "\n",
              "    .dataframe tbody tr th {\n",
              "        vertical-align: top;\n",
              "    }\n",
              "\n",
              "    .dataframe thead th {\n",
              "        text-align: right;\n",
              "    }\n",
              "</style>\n",
              "<table border=\"1\" class=\"dataframe\">\n",
              "  <thead>\n",
              "    <tr style=\"text-align: right;\">\n",
              "      <th></th>\n",
              "      <th>ds</th>\n",
              "      <th>y</th>\n",
              "    </tr>\n",
              "  </thead>\n",
              "  <tbody>\n",
              "    <tr>\n",
              "      <th>307</th>\n",
              "      <td>2020-12-28</td>\n",
              "      <td>352781</td>\n",
              "    </tr>\n",
              "    <tr>\n",
              "      <th>308</th>\n",
              "      <td>2020-12-29</td>\n",
              "      <td>348015</td>\n",
              "    </tr>\n",
              "    <tr>\n",
              "      <th>309</th>\n",
              "      <td>2020-12-30</td>\n",
              "      <td>299889</td>\n",
              "    </tr>\n",
              "    <tr>\n",
              "      <th>310</th>\n",
              "      <td>2020-12-31</td>\n",
              "      <td>264686</td>\n",
              "    </tr>\n",
              "    <tr>\n",
              "      <th>311</th>\n",
              "      <td>2021-01-01</td>\n",
              "      <td>196142</td>\n",
              "    </tr>\n",
              "  </tbody>\n",
              "</table>\n",
              "</div>"
            ],
            "text/plain": [
              "            ds       y\n",
              "307 2020-12-28  352781\n",
              "308 2020-12-29  348015\n",
              "309 2020-12-30  299889\n",
              "310 2020-12-31  264686\n",
              "311 2021-01-01  196142"
            ]
          },
          "metadata": {
            "tags": []
          },
          "execution_count": 17
        }
      ]
    },
    {
      "cell_type": "code",
      "metadata": {
        "id": "UbTPNHJFKvjw",
        "colab": {
          "base_uri": "https://localhost:8080/"
        },
        "outputId": "26b6a97c-479f-40a8-f7d7-9c30d4f94279"
      },
      "source": [
        "dias = 90\n",
        "m = Prophet(interval_width= 0.95)\n",
        "m.fit(confirmados)\n",
        "futuro = m.make_future_dataframe(periods=dias)"
      ],
      "execution_count": 18,
      "outputs": [
        {
          "output_type": "stream",
          "text": [
            "INFO:numexpr.utils:NumExpr defaulting to 2 threads.\n",
            "INFO:fbprophet:Disabling yearly seasonality. Run prophet with yearly_seasonality=True to override this.\n",
            "INFO:fbprophet:Disabling daily seasonality. Run prophet with daily_seasonality=True to override this.\n"
          ],
          "name": "stderr"
        }
      ]
    },
    {
      "cell_type": "code",
      "metadata": {
        "id": "r3QAPQx-eNeZ",
        "colab": {
          "base_uri": "https://localhost:8080/",
          "height": 51
        },
        "outputId": "2cfb86d1-6869-4336-a3c3-e51ec6d0dd40"
      },
      "source": [
        "# uso do prophet\n",
        "dias = 30\n",
        "m = Prophet(interval_width= 0.95)\n",
        "m.fit(mortes)\n",
        "futuro = m.make_future_dataframe(periods=dias)"
      ],
      "execution_count": null,
      "outputs": [
        {
          "output_type": "stream",
          "text": [
            "INFO:fbprophet:Disabling yearly seasonality. Run prophet with yearly_seasonality=True to override this.\n",
            "INFO:fbprophet:Disabling daily seasonality. Run prophet with daily_seasonality=True to override this.\n"
          ],
          "name": "stderr"
        }
      ]
    },
    {
      "cell_type": "code",
      "metadata": {
        "id": "lnV1-VzwfJ8U"
      },
      "source": [
        "#futuro.tail(dias)"
      ],
      "execution_count": null,
      "outputs": []
    },
    {
      "cell_type": "code",
      "metadata": {
        "id": "deDKjkSafcL8"
      },
      "source": [
        "previsao = m.predict(futuro)\n",
        "#previsao.tail(dias)"
      ],
      "execution_count": 19,
      "outputs": []
    },
    {
      "cell_type": "code",
      "metadata": {
        "id": "mG3eMJwKfqJj",
        "colab": {
          "base_uri": "https://localhost:8080/",
          "height": 424
        },
        "outputId": "67c0f75b-e354-46db-87f0-9cd00036f965"
      },
      "source": [
        "previsao[['ds', 'yhat_lower','yhat','yhat_upper']].tail(dias)"
      ],
      "execution_count": 20,
      "outputs": [
        {
          "output_type": "execute_result",
          "data": {
            "text/html": [
              "<div>\n",
              "<style scoped>\n",
              "    .dataframe tbody tr th:only-of-type {\n",
              "        vertical-align: middle;\n",
              "    }\n",
              "\n",
              "    .dataframe tbody tr th {\n",
              "        vertical-align: top;\n",
              "    }\n",
              "\n",
              "    .dataframe thead th {\n",
              "        text-align: right;\n",
              "    }\n",
              "</style>\n",
              "<table border=\"1\" class=\"dataframe\">\n",
              "  <thead>\n",
              "    <tr style=\"text-align: right;\">\n",
              "      <th></th>\n",
              "      <th>ds</th>\n",
              "      <th>yhat_lower</th>\n",
              "      <th>yhat</th>\n",
              "      <th>yhat_upper</th>\n",
              "    </tr>\n",
              "  </thead>\n",
              "  <tbody>\n",
              "    <tr>\n",
              "      <th>312</th>\n",
              "      <td>2021-01-02</td>\n",
              "      <td>1.229635e+07</td>\n",
              "      <td>1.343070e+07</td>\n",
              "      <td>1.459791e+07</td>\n",
              "    </tr>\n",
              "    <tr>\n",
              "      <th>313</th>\n",
              "      <td>2021-01-03</td>\n",
              "      <td>1.238623e+07</td>\n",
              "      <td>1.357309e+07</td>\n",
              "      <td>1.464892e+07</td>\n",
              "    </tr>\n",
              "    <tr>\n",
              "      <th>314</th>\n",
              "      <td>2021-01-04</td>\n",
              "      <td>1.252221e+07</td>\n",
              "      <td>1.364248e+07</td>\n",
              "      <td>1.472308e+07</td>\n",
              "    </tr>\n",
              "    <tr>\n",
              "      <th>315</th>\n",
              "      <td>2021-01-05</td>\n",
              "      <td>1.259831e+07</td>\n",
              "      <td>1.378569e+07</td>\n",
              "      <td>1.493469e+07</td>\n",
              "    </tr>\n",
              "    <tr>\n",
              "      <th>316</th>\n",
              "      <td>2021-01-06</td>\n",
              "      <td>1.251041e+07</td>\n",
              "      <td>1.372674e+07</td>\n",
              "      <td>1.473251e+07</td>\n",
              "    </tr>\n",
              "    <tr>\n",
              "      <th>...</th>\n",
              "      <td>...</td>\n",
              "      <td>...</td>\n",
              "      <td>...</td>\n",
              "      <td>...</td>\n",
              "    </tr>\n",
              "    <tr>\n",
              "      <th>397</th>\n",
              "      <td>2021-03-28</td>\n",
              "      <td>1.566314e+07</td>\n",
              "      <td>1.747404e+07</td>\n",
              "      <td>1.934595e+07</td>\n",
              "    </tr>\n",
              "    <tr>\n",
              "      <th>398</th>\n",
              "      <td>2021-03-29</td>\n",
              "      <td>1.560022e+07</td>\n",
              "      <td>1.754343e+07</td>\n",
              "      <td>1.937733e+07</td>\n",
              "    </tr>\n",
              "    <tr>\n",
              "      <th>399</th>\n",
              "      <td>2021-03-30</td>\n",
              "      <td>1.585797e+07</td>\n",
              "      <td>1.768664e+07</td>\n",
              "      <td>1.952696e+07</td>\n",
              "    </tr>\n",
              "    <tr>\n",
              "      <th>400</th>\n",
              "      <td>2021-03-31</td>\n",
              "      <td>1.584091e+07</td>\n",
              "      <td>1.762768e+07</td>\n",
              "      <td>1.964370e+07</td>\n",
              "    </tr>\n",
              "    <tr>\n",
              "      <th>401</th>\n",
              "      <td>2021-04-01</td>\n",
              "      <td>1.588992e+07</td>\n",
              "      <td>1.774019e+07</td>\n",
              "      <td>1.963567e+07</td>\n",
              "    </tr>\n",
              "  </tbody>\n",
              "</table>\n",
              "<p>90 rows × 4 columns</p>\n",
              "</div>"
            ],
            "text/plain": [
              "            ds    yhat_lower          yhat    yhat_upper\n",
              "312 2021-01-02  1.229635e+07  1.343070e+07  1.459791e+07\n",
              "313 2021-01-03  1.238623e+07  1.357309e+07  1.464892e+07\n",
              "314 2021-01-04  1.252221e+07  1.364248e+07  1.472308e+07\n",
              "315 2021-01-05  1.259831e+07  1.378569e+07  1.493469e+07\n",
              "316 2021-01-06  1.251041e+07  1.372674e+07  1.473251e+07\n",
              "..         ...           ...           ...           ...\n",
              "397 2021-03-28  1.566314e+07  1.747404e+07  1.934595e+07\n",
              "398 2021-03-29  1.560022e+07  1.754343e+07  1.937733e+07\n",
              "399 2021-03-30  1.585797e+07  1.768664e+07  1.952696e+07\n",
              "400 2021-03-31  1.584091e+07  1.762768e+07  1.964370e+07\n",
              "401 2021-04-01  1.588992e+07  1.774019e+07  1.963567e+07\n",
              "\n",
              "[90 rows x 4 columns]"
            ]
          },
          "metadata": {
            "tags": []
          },
          "execution_count": 20
        }
      ]
    },
    {
      "cell_type": "code",
      "metadata": {
        "id": "H8g4D0AbgQR1",
        "colab": {
          "base_uri": "https://localhost:8080/",
          "height": 441
        },
        "outputId": "f1a325c3-efc4-41fa-df81-93fd3c7f583a"
      },
      "source": [
        "confirmed_forecast_plot = m.plot(previsao)"
      ],
      "execution_count": 21,
      "outputs": [
        {
          "output_type": "display_data",
          "data": {
            "image/png": "[encoded data removed]",
            "text/plain": [
              "<Figure size 720x432 with 1 Axes>"
            ]
          },
          "metadata": {
            "tags": []
          }
        }
      ]
    },
    {
      "cell_type": "code",
      "metadata": {
        "id": "AkoFdJAEgrW8",
        "colab": {
          "base_uri": "https://localhost:8080/",
          "height": 441
        },
        "outputId": "dcdc13c7-4c58-4676-df82-e44f180730e6"
      },
      "source": [
        "fig2 = m.plot_components(previsao)"
      ],
      "execution_count": 22,
      "outputs": [
        {
          "output_type": "display_data",
          "data": {
            "image/png": "[encoded data removed]",
            "text/plain": [
              "<Figure size 648x432 with 2 Axes>"
            ]
          },
          "metadata": {
            "tags": []
          }
        }
      ]
    }
  ]
}