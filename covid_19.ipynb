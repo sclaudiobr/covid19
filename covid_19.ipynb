{
  "nbformat": 4,
  "nbformat_minor": 0,
  "metadata": {
    "colab": {
      "name": "covid_19.ipynb",
      "provenance": [],
      "collapsed_sections": [],
      "authorship_tag": "ABX9TyNp3REzv4KpjIrfIHdviIW+",
      "include_colab_link": true
    },
    "kernelspec": {
      "name": "python3",
      "display_name": "Python 3"
    }
  },
  "cells": [
    {
      "cell_type": "markdown",
      "metadata": {
        "id": "view-in-github",
        "colab_type": "text"
      },
      "source": [
        "<a href=\"https://colab.research.google.com/github/sclaudiobr/covid2019/blob/master/covid_19.ipynb\" target=\"_parent\"><img src=\"https://colab.research.google.com/assets/colab-badge.svg\" alt=\"Open In Colab\"/></a>"
      ]
    },
    {
      "cell_type": "markdown",
      "metadata": {
        "id": "s-IC-eXCdLJW",
        "colab_type": "text"
      },
      "source": [
        "# Prophet - previsão de dados com framework prophet\n",
        "\n",
        "## Formato de dados e colunas\n",
        "<p> datas (ds)\n",
        "<p> variável (y)\n",
        "\n",
        "*por: Claudio R. O da Silva*"
      ]
    },
    {
      "cell_type": "code",
      "metadata": {
        "id": "8F5BhWkfaozS",
        "colab_type": "code",
        "colab": {}
      },
      "source": [
        "import pandas as pd\n",
        "import numpy as np\n",
        "from fbprophet import Prophet"
      ],
      "execution_count": 0,
      "outputs": []
    },
    {
      "cell_type": "code",
      "metadata": {
        "id": "s6OWQOiRa3dX",
        "colab_type": "code",
        "colab": {}
      },
      "source": [
        "#covid = pd.read_csv('https://raw.githubusercontent.com/sandeco/CanalSandeco/master/covid-19/covid_19_data.csv')\n",
        "covid = pd.read_csv('https://raw.githubusercontent.com/sclaudiobr/covid2019/master/covid_19_data.csv')\n",
        "#covid = pd.read_csv('https://raw.githubusercontent.com/sclaudiobr/covid2019/master/brazil_covid19_210320.csv')"
      ],
      "execution_count": 0,
      "outputs": []
    },
    {
      "cell_type": "code",
      "metadata": {
        "id": "kjsSaPQpbPE9",
        "colab_type": "code",
        "outputId": "502dc7cb-d50d-4e03-8d8c-690f396e71e0",
        "colab": {
          "base_uri": "https://localhost:8080/",
          "height": 197
        }
      },
      "source": [
        "covid.tail()"
      ],
      "execution_count": 3,
      "outputs": [
        {
          "output_type": "execute_result",
          "data": {
            "text/html": [
              "<div>\n",
              "<style scoped>\n",
              "    .dataframe tbody tr th:only-of-type {\n",
              "        vertical-align: middle;\n",
              "    }\n",
              "\n",
              "    .dataframe tbody tr th {\n",
              "        vertical-align: top;\n",
              "    }\n",
              "\n",
              "    .dataframe thead th {\n",
              "        text-align: right;\n",
              "    }\n",
              "</style>\n",
              "<table border=\"1\" class=\"dataframe\">\n",
              "  <thead>\n",
              "    <tr style=\"text-align: right;\">\n",
              "      <th></th>\n",
              "      <th>SNo</th>\n",
              "      <th>ObservationDate</th>\n",
              "      <th>Province/State</th>\n",
              "      <th>Country/Region</th>\n",
              "      <th>Last Update</th>\n",
              "      <th>Confirmed</th>\n",
              "      <th>Deaths</th>\n",
              "      <th>Recovered</th>\n",
              "    </tr>\n",
              "  </thead>\n",
              "  <tbody>\n",
              "    <tr>\n",
              "      <th>10353</th>\n",
              "      <td>10354</td>\n",
              "      <td>03/30/2020</td>\n",
              "      <td>Wyoming</td>\n",
              "      <td>US</td>\n",
              "      <td>2020-03-30 22:58:55</td>\n",
              "      <td>94.0</td>\n",
              "      <td>0.0</td>\n",
              "      <td>0.0</td>\n",
              "    </tr>\n",
              "    <tr>\n",
              "      <th>10354</th>\n",
              "      <td>10355</td>\n",
              "      <td>03/30/2020</td>\n",
              "      <td>Xinjiang</td>\n",
              "      <td>Mainland China</td>\n",
              "      <td>2020-03-30 22:58:55</td>\n",
              "      <td>76.0</td>\n",
              "      <td>3.0</td>\n",
              "      <td>73.0</td>\n",
              "    </tr>\n",
              "    <tr>\n",
              "      <th>10355</th>\n",
              "      <td>10356</td>\n",
              "      <td>03/30/2020</td>\n",
              "      <td>Yukon</td>\n",
              "      <td>Canada</td>\n",
              "      <td>2020-03-30 22:58:55</td>\n",
              "      <td>4.0</td>\n",
              "      <td>0.0</td>\n",
              "      <td>0.0</td>\n",
              "    </tr>\n",
              "    <tr>\n",
              "      <th>10356</th>\n",
              "      <td>10357</td>\n",
              "      <td>03/30/2020</td>\n",
              "      <td>Yunnan</td>\n",
              "      <td>Mainland China</td>\n",
              "      <td>2020-03-30 22:58:55</td>\n",
              "      <td>180.0</td>\n",
              "      <td>2.0</td>\n",
              "      <td>172.0</td>\n",
              "    </tr>\n",
              "    <tr>\n",
              "      <th>10357</th>\n",
              "      <td>10358</td>\n",
              "      <td>03/30/2020</td>\n",
              "      <td>Zhejiang</td>\n",
              "      <td>Mainland China</td>\n",
              "      <td>2020-03-30 22:58:55</td>\n",
              "      <td>1255.0</td>\n",
              "      <td>1.0</td>\n",
              "      <td>1225.0</td>\n",
              "    </tr>\n",
              "  </tbody>\n",
              "</table>\n",
              "</div>"
            ],
            "text/plain": [
              "         SNo ObservationDate Province/State  ... Confirmed Deaths  Recovered\n",
              "10353  10354      03/30/2020        Wyoming  ...      94.0    0.0        0.0\n",
              "10354  10355      03/30/2020       Xinjiang  ...      76.0    3.0       73.0\n",
              "10355  10356      03/30/2020          Yukon  ...       4.0    0.0        0.0\n",
              "10356  10357      03/30/2020         Yunnan  ...     180.0    2.0      172.0\n",
              "10357  10358      03/30/2020       Zhejiang  ...    1255.0    1.0     1225.0\n",
              "\n",
              "[5 rows x 8 columns]"
            ]
          },
          "metadata": {
            "tags": []
          },
          "execution_count": 3
        }
      ]
    },
    {
      "cell_type": "code",
      "metadata": {
        "id": "oF7gAJj7bRoz",
        "colab_type": "code",
        "colab": {}
      },
      "source": [
        "covid.rename(columns ={'ObservationDate':'Date','Country/Region':'Country'}, inplace=True)"
      ],
      "execution_count": 0,
      "outputs": []
    },
    {
      "cell_type": "code",
      "metadata": {
        "id": "OZUPpW_yb0H1",
        "colab_type": "code",
        "outputId": "28656ab4-3fdc-4364-9185-c1f33bcf9ee4",
        "colab": {
          "base_uri": "https://localhost:8080/",
          "height": 197
        }
      },
      "source": [
        "covid.tail()"
      ],
      "execution_count": 5,
      "outputs": [
        {
          "output_type": "execute_result",
          "data": {
            "text/html": [
              "<div>\n",
              "<style scoped>\n",
              "    .dataframe tbody tr th:only-of-type {\n",
              "        vertical-align: middle;\n",
              "    }\n",
              "\n",
              "    .dataframe tbody tr th {\n",
              "        vertical-align: top;\n",
              "    }\n",
              "\n",
              "    .dataframe thead th {\n",
              "        text-align: right;\n",
              "    }\n",
              "</style>\n",
              "<table border=\"1\" class=\"dataframe\">\n",
              "  <thead>\n",
              "    <tr style=\"text-align: right;\">\n",
              "      <th></th>\n",
              "      <th>SNo</th>\n",
              "      <th>Date</th>\n",
              "      <th>Province/State</th>\n",
              "      <th>Country</th>\n",
              "      <th>Last Update</th>\n",
              "      <th>Confirmed</th>\n",
              "      <th>Deaths</th>\n",
              "      <th>Recovered</th>\n",
              "    </tr>\n",
              "  </thead>\n",
              "  <tbody>\n",
              "    <tr>\n",
              "      <th>10353</th>\n",
              "      <td>10354</td>\n",
              "      <td>03/30/2020</td>\n",
              "      <td>Wyoming</td>\n",
              "      <td>US</td>\n",
              "      <td>2020-03-30 22:58:55</td>\n",
              "      <td>94.0</td>\n",
              "      <td>0.0</td>\n",
              "      <td>0.0</td>\n",
              "    </tr>\n",
              "    <tr>\n",
              "      <th>10354</th>\n",
              "      <td>10355</td>\n",
              "      <td>03/30/2020</td>\n",
              "      <td>Xinjiang</td>\n",
              "      <td>Mainland China</td>\n",
              "      <td>2020-03-30 22:58:55</td>\n",
              "      <td>76.0</td>\n",
              "      <td>3.0</td>\n",
              "      <td>73.0</td>\n",
              "    </tr>\n",
              "    <tr>\n",
              "      <th>10355</th>\n",
              "      <td>10356</td>\n",
              "      <td>03/30/2020</td>\n",
              "      <td>Yukon</td>\n",
              "      <td>Canada</td>\n",
              "      <td>2020-03-30 22:58:55</td>\n",
              "      <td>4.0</td>\n",
              "      <td>0.0</td>\n",
              "      <td>0.0</td>\n",
              "    </tr>\n",
              "    <tr>\n",
              "      <th>10356</th>\n",
              "      <td>10357</td>\n",
              "      <td>03/30/2020</td>\n",
              "      <td>Yunnan</td>\n",
              "      <td>Mainland China</td>\n",
              "      <td>2020-03-30 22:58:55</td>\n",
              "      <td>180.0</td>\n",
              "      <td>2.0</td>\n",
              "      <td>172.0</td>\n",
              "    </tr>\n",
              "    <tr>\n",
              "      <th>10357</th>\n",
              "      <td>10358</td>\n",
              "      <td>03/30/2020</td>\n",
              "      <td>Zhejiang</td>\n",
              "      <td>Mainland China</td>\n",
              "      <td>2020-03-30 22:58:55</td>\n",
              "      <td>1255.0</td>\n",
              "      <td>1.0</td>\n",
              "      <td>1225.0</td>\n",
              "    </tr>\n",
              "  </tbody>\n",
              "</table>\n",
              "</div>"
            ],
            "text/plain": [
              "         SNo        Date Province/State  ... Confirmed Deaths  Recovered\n",
              "10353  10354  03/30/2020        Wyoming  ...      94.0    0.0        0.0\n",
              "10354  10355  03/30/2020       Xinjiang  ...      76.0    3.0       73.0\n",
              "10355  10356  03/30/2020          Yukon  ...       4.0    0.0        0.0\n",
              "10356  10357  03/30/2020         Yunnan  ...     180.0    2.0      172.0\n",
              "10357  10358  03/30/2020       Zhejiang  ...    1255.0    1.0     1225.0\n",
              "\n",
              "[5 rows x 8 columns]"
            ]
          },
          "metadata": {
            "tags": []
          },
          "execution_count": 5
        }
      ]
    },
    {
      "cell_type": "code",
      "metadata": {
        "id": "43j2he-svooM",
        "colab_type": "code",
        "colab": {}
      },
      "source": [
        "from datetime import datetime as dt"
      ],
      "execution_count": 0,
      "outputs": []
    },
    {
      "cell_type": "code",
      "metadata": {
        "id": "y8yroDdFb5u0",
        "colab_type": "code",
        "colab": {}
      },
      "source": [
        "# numero de mortes\n",
        "mortes = covid.groupby('Date').sum()['Deaths'].reset_index()\n",
        "mortes.tail()\n",
        "mortes['Date'] = pd.to_datetime(mortes['Date'])"
      ],
      "execution_count": 0,
      "outputs": []
    },
    {
      "cell_type": "code",
      "metadata": {
        "id": "QybuowzGJOdT",
        "colab_type": "code",
        "colab": {}
      },
      "source": [
        "confirmados = covid.groupby('Date').sum()['Confirmed'].reset_index()\n",
        "confirmados.tail()\n",
        "confirmados['Date'] = pd.to_datetime(confirmados['Date'])"
      ],
      "execution_count": 0,
      "outputs": []
    },
    {
      "cell_type": "code",
      "metadata": {
        "id": "GOP1Zko1KN2O",
        "colab_type": "code",
        "colab": {}
      },
      "source": [
        "confirmados.columns = ['ds','y']"
      ],
      "execution_count": 0,
      "outputs": []
    },
    {
      "cell_type": "code",
      "metadata": {
        "id": "iwrAiwZpcvy6",
        "colab_type": "code",
        "outputId": "320a9c8c-db79-40c0-eb66-e2edaf43edf4",
        "colab": {
          "base_uri": "https://localhost:8080/",
          "height": 197
        }
      },
      "source": [
        "# tratamento dos dados para o prophet - renomeando\n",
        "mortes.columns = ['ds','y']\n",
        "mortes.tail()"
      ],
      "execution_count": 11,
      "outputs": [
        {
          "output_type": "execute_result",
          "data": {
            "text/html": [
              "<div>\n",
              "<style scoped>\n",
              "    .dataframe tbody tr th:only-of-type {\n",
              "        vertical-align: middle;\n",
              "    }\n",
              "\n",
              "    .dataframe tbody tr th {\n",
              "        vertical-align: top;\n",
              "    }\n",
              "\n",
              "    .dataframe thead th {\n",
              "        text-align: right;\n",
              "    }\n",
              "</style>\n",
              "<table border=\"1\" class=\"dataframe\">\n",
              "  <thead>\n",
              "    <tr style=\"text-align: right;\">\n",
              "      <th></th>\n",
              "      <th>ds</th>\n",
              "      <th>y</th>\n",
              "    </tr>\n",
              "  </thead>\n",
              "  <tbody>\n",
              "    <tr>\n",
              "      <th>64</th>\n",
              "      <td>2020-03-26</td>\n",
              "      <td>23970.0</td>\n",
              "    </tr>\n",
              "    <tr>\n",
              "      <th>65</th>\n",
              "      <td>2020-03-27</td>\n",
              "      <td>27198.0</td>\n",
              "    </tr>\n",
              "    <tr>\n",
              "      <th>66</th>\n",
              "      <td>2020-03-28</td>\n",
              "      <td>30652.0</td>\n",
              "    </tr>\n",
              "    <tr>\n",
              "      <th>67</th>\n",
              "      <td>2020-03-29</td>\n",
              "      <td>33925.0</td>\n",
              "    </tr>\n",
              "    <tr>\n",
              "      <th>68</th>\n",
              "      <td>2020-03-30</td>\n",
              "      <td>37582.0</td>\n",
              "    </tr>\n",
              "  </tbody>\n",
              "</table>\n",
              "</div>"
            ],
            "text/plain": [
              "           ds        y\n",
              "64 2020-03-26  23970.0\n",
              "65 2020-03-27  27198.0\n",
              "66 2020-03-28  30652.0\n",
              "67 2020-03-29  33925.0\n",
              "68 2020-03-30  37582.0"
            ]
          },
          "metadata": {
            "tags": []
          },
          "execution_count": 11
        }
      ]
    },
    {
      "cell_type": "code",
      "metadata": {
        "id": "l9tbAG0OKdrd",
        "colab_type": "code",
        "outputId": "8c25ec31-e1ee-42c4-8bb4-fc257c6e14a2",
        "colab": {
          "base_uri": "https://localhost:8080/",
          "height": 197
        }
      },
      "source": [
        "confirmados['ds'] = pd.to_datetime(confirmados['ds'])\n",
        "confirmados.tail()"
      ],
      "execution_count": 12,
      "outputs": [
        {
          "output_type": "execute_result",
          "data": {
            "text/html": [
              "<div>\n",
              "<style scoped>\n",
              "    .dataframe tbody tr th:only-of-type {\n",
              "        vertical-align: middle;\n",
              "    }\n",
              "\n",
              "    .dataframe tbody tr th {\n",
              "        vertical-align: top;\n",
              "    }\n",
              "\n",
              "    .dataframe thead th {\n",
              "        text-align: right;\n",
              "    }\n",
              "</style>\n",
              "<table border=\"1\" class=\"dataframe\">\n",
              "  <thead>\n",
              "    <tr style=\"text-align: right;\">\n",
              "      <th></th>\n",
              "      <th>ds</th>\n",
              "      <th>y</th>\n",
              "    </tr>\n",
              "  </thead>\n",
              "  <tbody>\n",
              "    <tr>\n",
              "      <th>64</th>\n",
              "      <td>2020-03-26</td>\n",
              "      <td>529591.0</td>\n",
              "    </tr>\n",
              "    <tr>\n",
              "      <th>65</th>\n",
              "      <td>2020-03-27</td>\n",
              "      <td>593291.0</td>\n",
              "    </tr>\n",
              "    <tr>\n",
              "      <th>66</th>\n",
              "      <td>2020-03-28</td>\n",
              "      <td>660706.0</td>\n",
              "    </tr>\n",
              "    <tr>\n",
              "      <th>67</th>\n",
              "      <td>2020-03-29</td>\n",
              "      <td>720117.0</td>\n",
              "    </tr>\n",
              "    <tr>\n",
              "      <th>68</th>\n",
              "      <td>2020-03-30</td>\n",
              "      <td>782365.0</td>\n",
              "    </tr>\n",
              "  </tbody>\n",
              "</table>\n",
              "</div>"
            ],
            "text/plain": [
              "           ds         y\n",
              "64 2020-03-26  529591.0\n",
              "65 2020-03-27  593291.0\n",
              "66 2020-03-28  660706.0\n",
              "67 2020-03-29  720117.0\n",
              "68 2020-03-30  782365.0"
            ]
          },
          "metadata": {
            "tags": []
          },
          "execution_count": 12
        }
      ]
    },
    {
      "cell_type": "code",
      "metadata": {
        "id": "jel6oakgd8rV",
        "colab_type": "code",
        "outputId": "4a1da0a6-de8d-4ff2-fb05-4a4ff923b438",
        "colab": {
          "base_uri": "https://localhost:8080/",
          "height": 197
        }
      },
      "source": [
        "# formatando data\n",
        "mortes['ds'] = pd.to_datetime(mortes['ds'])\n",
        "mortes.tail()"
      ],
      "execution_count": 13,
      "outputs": [
        {
          "output_type": "execute_result",
          "data": {
            "text/html": [
              "<div>\n",
              "<style scoped>\n",
              "    .dataframe tbody tr th:only-of-type {\n",
              "        vertical-align: middle;\n",
              "    }\n",
              "\n",
              "    .dataframe tbody tr th {\n",
              "        vertical-align: top;\n",
              "    }\n",
              "\n",
              "    .dataframe thead th {\n",
              "        text-align: right;\n",
              "    }\n",
              "</style>\n",
              "<table border=\"1\" class=\"dataframe\">\n",
              "  <thead>\n",
              "    <tr style=\"text-align: right;\">\n",
              "      <th></th>\n",
              "      <th>ds</th>\n",
              "      <th>y</th>\n",
              "    </tr>\n",
              "  </thead>\n",
              "  <tbody>\n",
              "    <tr>\n",
              "      <th>64</th>\n",
              "      <td>2020-03-26</td>\n",
              "      <td>23970.0</td>\n",
              "    </tr>\n",
              "    <tr>\n",
              "      <th>65</th>\n",
              "      <td>2020-03-27</td>\n",
              "      <td>27198.0</td>\n",
              "    </tr>\n",
              "    <tr>\n",
              "      <th>66</th>\n",
              "      <td>2020-03-28</td>\n",
              "      <td>30652.0</td>\n",
              "    </tr>\n",
              "    <tr>\n",
              "      <th>67</th>\n",
              "      <td>2020-03-29</td>\n",
              "      <td>33925.0</td>\n",
              "    </tr>\n",
              "    <tr>\n",
              "      <th>68</th>\n",
              "      <td>2020-03-30</td>\n",
              "      <td>37582.0</td>\n",
              "    </tr>\n",
              "  </tbody>\n",
              "</table>\n",
              "</div>"
            ],
            "text/plain": [
              "           ds        y\n",
              "64 2020-03-26  23970.0\n",
              "65 2020-03-27  27198.0\n",
              "66 2020-03-28  30652.0\n",
              "67 2020-03-29  33925.0\n",
              "68 2020-03-30  37582.0"
            ]
          },
          "metadata": {
            "tags": []
          },
          "execution_count": 13
        }
      ]
    },
    {
      "cell_type": "code",
      "metadata": {
        "id": "UbTPNHJFKvjw",
        "colab_type": "code",
        "outputId": "65f82e39-4cb7-4fd7-9815-0f1249a8c3d4",
        "colab": {
          "base_uri": "https://localhost:8080/",
          "height": 50
        }
      },
      "source": [
        "dias = 90\n",
        "m = Prophet(interval_width= 0.95)\n",
        "m.fit(confirmados)\n",
        "futuro = m.make_future_dataframe(periods=dias)"
      ],
      "execution_count": 22,
      "outputs": [
        {
          "output_type": "stream",
          "text": [
            "INFO:fbprophet:Disabling yearly seasonality. Run prophet with yearly_seasonality=True to override this.\n",
            "INFO:fbprophet:Disabling daily seasonality. Run prophet with daily_seasonality=True to override this.\n"
          ],
          "name": "stderr"
        }
      ]
    },
    {
      "cell_type": "code",
      "metadata": {
        "id": "r3QAPQx-eNeZ",
        "colab_type": "code",
        "outputId": "fdadca55-9933-4de0-dd2b-bb12f98aeb3f",
        "colab": {
          "base_uri": "https://localhost:8080/",
          "height": 50
        }
      },
      "source": [
        "# uso do prophet\n",
        "dias = 30\n",
        "m = Prophet(interval_width= 0.95)\n",
        "m.fit(mortes)\n",
        "futuro = m.make_future_dataframe(periods=dias)"
      ],
      "execution_count": 15,
      "outputs": [
        {
          "output_type": "stream",
          "text": [
            "INFO:fbprophet:Disabling yearly seasonality. Run prophet with yearly_seasonality=True to override this.\n",
            "INFO:fbprophet:Disabling daily seasonality. Run prophet with daily_seasonality=True to override this.\n"
          ],
          "name": "stderr"
        }
      ]
    },
    {
      "cell_type": "code",
      "metadata": {
        "id": "lnV1-VzwfJ8U",
        "colab_type": "code",
        "colab": {}
      },
      "source": [
        "#futuro.tail(dias)"
      ],
      "execution_count": 0,
      "outputs": []
    },
    {
      "cell_type": "code",
      "metadata": {
        "id": "deDKjkSafcL8",
        "colab_type": "code",
        "colab": {}
      },
      "source": [
        "previsao = m.predict(futuro)\n",
        "#previsao.tail(dias)"
      ],
      "execution_count": 0,
      "outputs": []
    },
    {
      "cell_type": "code",
      "metadata": {
        "id": "mG3eMJwKfqJj",
        "colab_type": "code",
        "outputId": "c4ec5f9d-2385-49f6-87e5-582d77e9dac8",
        "colab": {
          "base_uri": "https://localhost:8080/",
          "height": 406
        }
      },
      "source": [
        "previsao[['ds', 'yhat_lower','yhat','yhat_upper']].tail(dias)"
      ],
      "execution_count": 24,
      "outputs": [
        {
          "output_type": "execute_result",
          "data": {
            "text/html": [
              "<div>\n",
              "<style scoped>\n",
              "    .dataframe tbody tr th:only-of-type {\n",
              "        vertical-align: middle;\n",
              "    }\n",
              "\n",
              "    .dataframe tbody tr th {\n",
              "        vertical-align: top;\n",
              "    }\n",
              "\n",
              "    .dataframe thead th {\n",
              "        text-align: right;\n",
              "    }\n",
              "</style>\n",
              "<table border=\"1\" class=\"dataframe\">\n",
              "  <thead>\n",
              "    <tr style=\"text-align: right;\">\n",
              "      <th></th>\n",
              "      <th>ds</th>\n",
              "      <th>yhat_lower</th>\n",
              "      <th>yhat</th>\n",
              "      <th>yhat_upper</th>\n",
              "    </tr>\n",
              "  </thead>\n",
              "  <tbody>\n",
              "    <tr>\n",
              "      <th>69</th>\n",
              "      <td>2020-03-31</td>\n",
              "      <td>7.008769e+05</td>\n",
              "      <td>7.380156e+05</td>\n",
              "      <td>7.789714e+05</td>\n",
              "    </tr>\n",
              "    <tr>\n",
              "      <th>70</th>\n",
              "      <td>2020-04-01</td>\n",
              "      <td>7.416217e+05</td>\n",
              "      <td>7.777820e+05</td>\n",
              "      <td>8.141110e+05</td>\n",
              "    </tr>\n",
              "    <tr>\n",
              "      <th>71</th>\n",
              "      <td>2020-04-02</td>\n",
              "      <td>7.800434e+05</td>\n",
              "      <td>8.194014e+05</td>\n",
              "      <td>8.598682e+05</td>\n",
              "    </tr>\n",
              "    <tr>\n",
              "      <th>72</th>\n",
              "      <td>2020-04-03</td>\n",
              "      <td>8.227707e+05</td>\n",
              "      <td>8.619723e+05</td>\n",
              "      <td>9.021577e+05</td>\n",
              "    </tr>\n",
              "    <tr>\n",
              "      <th>73</th>\n",
              "      <td>2020-04-04</td>\n",
              "      <td>8.643069e+05</td>\n",
              "      <td>9.043273e+05</td>\n",
              "      <td>9.450689e+05</td>\n",
              "    </tr>\n",
              "    <tr>\n",
              "      <th>...</th>\n",
              "      <td>...</td>\n",
              "      <td>...</td>\n",
              "      <td>...</td>\n",
              "      <td>...</td>\n",
              "    </tr>\n",
              "    <tr>\n",
              "      <th>154</th>\n",
              "      <td>2020-06-24</td>\n",
              "      <td>3.003045e+06</td>\n",
              "      <td>4.141266e+06</td>\n",
              "      <td>5.267108e+06</td>\n",
              "    </tr>\n",
              "    <tr>\n",
              "      <th>155</th>\n",
              "      <td>2020-06-25</td>\n",
              "      <td>3.041591e+06</td>\n",
              "      <td>4.182886e+06</td>\n",
              "      <td>5.321868e+06</td>\n",
              "    </tr>\n",
              "    <tr>\n",
              "      <th>156</th>\n",
              "      <td>2020-06-26</td>\n",
              "      <td>3.044485e+06</td>\n",
              "      <td>4.225456e+06</td>\n",
              "      <td>5.396505e+06</td>\n",
              "    </tr>\n",
              "    <tr>\n",
              "      <th>157</th>\n",
              "      <td>2020-06-27</td>\n",
              "      <td>3.075521e+06</td>\n",
              "      <td>4.267811e+06</td>\n",
              "      <td>5.446000e+06</td>\n",
              "    </tr>\n",
              "    <tr>\n",
              "      <th>158</th>\n",
              "      <td>2020-06-28</td>\n",
              "      <td>3.102834e+06</td>\n",
              "      <td>4.309646e+06</td>\n",
              "      <td>5.519401e+06</td>\n",
              "    </tr>\n",
              "  </tbody>\n",
              "</table>\n",
              "<p>90 rows × 4 columns</p>\n",
              "</div>"
            ],
            "text/plain": [
              "            ds    yhat_lower          yhat    yhat_upper\n",
              "69  2020-03-31  7.008769e+05  7.380156e+05  7.789714e+05\n",
              "70  2020-04-01  7.416217e+05  7.777820e+05  8.141110e+05\n",
              "71  2020-04-02  7.800434e+05  8.194014e+05  8.598682e+05\n",
              "72  2020-04-03  8.227707e+05  8.619723e+05  9.021577e+05\n",
              "73  2020-04-04  8.643069e+05  9.043273e+05  9.450689e+05\n",
              "..         ...           ...           ...           ...\n",
              "154 2020-06-24  3.003045e+06  4.141266e+06  5.267108e+06\n",
              "155 2020-06-25  3.041591e+06  4.182886e+06  5.321868e+06\n",
              "156 2020-06-26  3.044485e+06  4.225456e+06  5.396505e+06\n",
              "157 2020-06-27  3.075521e+06  4.267811e+06  5.446000e+06\n",
              "158 2020-06-28  3.102834e+06  4.309646e+06  5.519401e+06\n",
              "\n",
              "[90 rows x 4 columns]"
            ]
          },
          "metadata": {
            "tags": []
          },
          "execution_count": 24
        }
      ]
    },
    {
      "cell_type": "code",
      "metadata": {
        "id": "H8g4D0AbgQR1",
        "colab_type": "code",
        "outputId": "154983f1-9afc-4ee4-f7a5-3fcfb0d63b71",
        "colab": {
          "base_uri": "https://localhost:8080/",
          "height": 441
        }
      },
      "source": [
        "confirmed_forecast_plot = m.plot(previsao)"
      ],
      "execution_count": 19,
      "outputs": [
        {
          "output_type": "display_data",
          "data": {
            "image/png": "[encoded data removed]",
            "text/plain": [
              "<Figure size 720x432 with 1 Axes>"
            ]
          },
          "metadata": {
            "tags": []
          }
        }
      ]
    },
    {
      "cell_type": "code",
      "metadata": {
        "id": "AkoFdJAEgrW8",
        "colab_type": "code",
        "outputId": "7383e2c0-f789-4ca3-c6c6-c8932355f76c",
        "colab": {
          "base_uri": "https://localhost:8080/",
          "height": 441
        }
      },
      "source": [
        "fig2 = m.plot_components(previsao)"
      ],
      "execution_count": 20,
      "outputs": [
        {
          "output_type": "display_data",
          "data": {
            "image/png": "[encoded data removed]",
            "text/plain": [
              "<Figure size 648x432 with 2 Axes>"
            ]
          },
          "metadata": {
            "tags": []
          }
        }
      ]
    },
    {
      "cell_type": "code",
      "metadata": {
        "id": "LNFEUA-eEAl9",
        "colab_type": "code",
        "outputId": "d810771b-ef73-40d8-efbd-1e2cf6334455",
        "colab": {
          "base_uri": "https://localhost:8080/",
          "height": 196
        }
      },
      "source": [
        "from fbprophet.diagnostics import performance_metrics\n",
        "df_p = performance_metrics(df_cv)\n",
        "df_p.head()"
      ],
      "execution_count": 21,
      "outputs": [
        {
          "output_type": "error",
          "ename": "NameError",
          "evalue": "ignored",
          "traceback": [
            "\u001b[0;31m---------------------------------------------------------------------------\u001b[0m",
            "\u001b[0;31mNameError\u001b[0m                                 Traceback (most recent call last)",
            "\u001b[0;32m<ipython-input-21-ae8cacc66608>\u001b[0m in \u001b[0;36m<module>\u001b[0;34m()\u001b[0m\n\u001b[1;32m      1\u001b[0m \u001b[0;32mfrom\u001b[0m \u001b[0mfbprophet\u001b[0m\u001b[0;34m.\u001b[0m\u001b[0mdiagnostics\u001b[0m \u001b[0;32mimport\u001b[0m \u001b[0mperformance_metrics\u001b[0m\u001b[0;34m\u001b[0m\u001b[0;34m\u001b[0m\u001b[0m\n\u001b[0;32m----> 2\u001b[0;31m \u001b[0mdf_p\u001b[0m \u001b[0;34m=\u001b[0m \u001b[0mperformance_metrics\u001b[0m\u001b[0;34m(\u001b[0m\u001b[0mdf_cv\u001b[0m\u001b[0;34m)\u001b[0m\u001b[0;34m\u001b[0m\u001b[0;34m\u001b[0m\u001b[0m\n\u001b[0m\u001b[1;32m      3\u001b[0m \u001b[0mdf_p\u001b[0m\u001b[0;34m.\u001b[0m\u001b[0mhead\u001b[0m\u001b[0;34m(\u001b[0m\u001b[0;34m)\u001b[0m\u001b[0;34m\u001b[0m\u001b[0;34m\u001b[0m\u001b[0m\n",
            "\u001b[0;31mNameError\u001b[0m: name 'df_cv' is not defined"
          ]
        }
      ]
    },
    {
      "cell_type": "code",
      "metadata": {
        "id": "QK-ZdUPiG4Oc",
        "colab_type": "code",
        "colab": {}
      },
      "source": [
        ""
      ],
      "execution_count": 0,
      "outputs": []
    }
  ]
}