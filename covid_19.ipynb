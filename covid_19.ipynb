{
  "nbformat": 4,
  "nbformat_minor": 0,
  "metadata": {
    "colab": {
      "name": "covid_19.ipynb",
      "provenance": [],
      "collapsed_sections": [],
      "authorship_tag": "ABX9TyNpyACNoiy/lMoCzaUvvsOG",
      "include_colab_link": true
    },
    "kernelspec": {
      "name": "python3",
      "display_name": "Python 3"
    }
  },
  "cells": [
    {
      "cell_type": "markdown",
      "metadata": {
        "id": "view-in-github",
        "colab_type": "text"
      },
      "source": [
        "<a href=\"https://colab.research.google.com/github/sclaudiobr/covid2019/blob/master/covid_19.ipynb\" target=\"_parent\"><img src=\"https://colab.research.google.com/assets/colab-badge.svg\" alt=\"Open In Colab\"/></a>"
      ]
    },
    {
      "cell_type": "markdown",
      "metadata": {
        "id": "s-IC-eXCdLJW",
        "colab_type": "text"
      },
      "source": [
        "# Prophet - previsão de dados com framework prophet\n",
        "\n",
        "## Formato de dados e colunas\n",
        "<p> datas (ds)\n",
        "<p> variável (y)\n",
        "\n",
        "*por: Claudio R. O da Silva*"
      ]
    },
    {
      "cell_type": "code",
      "metadata": {
        "id": "8F5BhWkfaozS",
        "colab_type": "code",
        "colab": {}
      },
      "source": [
        "import pandas as pd\n",
        "import numpy as np\n",
        "from fbprophet import Prophet"
      ],
      "execution_count": null,
      "outputs": []
    },
    {
      "cell_type": "code",
      "metadata": {
        "id": "s6OWQOiRa3dX",
        "colab_type": "code",
        "colab": {
          "base_uri": "https://localhost:8080/",
          "height": 238
        },
        "outputId": "82008ae8-8a9f-42ab-a133-59859ca67bf5"
      },
      "source": [
        "# Aqui, configuramos o acesso ao reposiório e exportação para o formato pandas Dataframe (tabela)\n",
        "# Observe que aqui usei o terminal LINUX do COLAB para a importacao e descompactação do arquivo.\n",
        "!wget https://data.brasil.io/dataset/covid19/caso.csv.gz\n",
        "!gunzip caso.csv.gz\n",
        "df = pd.read_csv(\"caso.csv\")\n",
        "df.head(10)\n",
        "covid = df"
      ],
      "execution_count": 4,
      "outputs": [
        {
          "output_type": "stream",
          "text": [
            "--2020-09-15 18:08:13--  https://data.brasil.io/dataset/covid19/caso.csv.gz\n",
            "Resolving data.brasil.io (data.brasil.io)... 104.26.8.175, 172.67.71.45, 104.26.9.175, ...\n",
            "Connecting to data.brasil.io (data.brasil.io)|104.26.8.175|:443... connected.\n",
            "HTTP request sent, awaiting response... 200 OK\n",
            "Length: 7268335 (6.9M) [application/gzip]\n",
            "Saving to: ‘caso.csv.gz’\n",
            "\n",
            "caso.csv.gz         100%[===================>]   6.93M  8.05MB/s    in 0.9s    \n",
            "\n",
            "2020-09-15 18:08:14 (8.05 MB/s) - ‘caso.csv.gz’ saved [7268335/7268335]\n",
            "\n",
            "gzip: caso.csv already exists; do you wish to overwrite (y or n)? n\n",
            "\tnot overwritten\n"
          ],
          "name": "stdout"
        }
      ]
    },
    {
      "cell_type": "code",
      "metadata": {
        "id": "kjsSaPQpbPE9",
        "colab_type": "code",
        "colab": {
          "base_uri": "https://localhost:8080/",
          "height": 204
        },
        "outputId": "c09e5423-398f-4aa2-862c-cb3fd944da46"
      },
      "source": [
        "covid.tail()"
      ],
      "execution_count": 5,
      "outputs": [
        {
          "output_type": "execute_result",
          "data": {
            "text/html": [
              "<div>\n",
              "<style scoped>\n",
              "    .dataframe tbody tr th:only-of-type {\n",
              "        vertical-align: middle;\n",
              "    }\n",
              "\n",
              "    .dataframe tbody tr th {\n",
              "        vertical-align: top;\n",
              "    }\n",
              "\n",
              "    .dataframe thead th {\n",
              "        text-align: right;\n",
              "    }\n",
              "</style>\n",
              "<table border=\"1\" class=\"dataframe\">\n",
              "  <thead>\n",
              "    <tr style=\"text-align: right;\">\n",
              "      <th></th>\n",
              "      <th>date</th>\n",
              "      <th>state</th>\n",
              "      <th>city</th>\n",
              "      <th>place_type</th>\n",
              "      <th>confirmed</th>\n",
              "      <th>deaths</th>\n",
              "      <th>order_for_place</th>\n",
              "      <th>is_last</th>\n",
              "      <th>estimated_population_2019</th>\n",
              "      <th>city_ibge_code</th>\n",
              "      <th>confirmed_per_100k_inhabitants</th>\n",
              "      <th>death_rate</th>\n",
              "    </tr>\n",
              "  </thead>\n",
              "  <tbody>\n",
              "    <tr>\n",
              "      <th>684903</th>\n",
              "      <td>2020-06-23</td>\n",
              "      <td>SP</td>\n",
              "      <td>Óleo</td>\n",
              "      <td>city</td>\n",
              "      <td>1</td>\n",
              "      <td>0</td>\n",
              "      <td>5</td>\n",
              "      <td>False</td>\n",
              "      <td>2496.0</td>\n",
              "      <td>3533809.0</td>\n",
              "      <td>40.0641</td>\n",
              "      <td>0.0</td>\n",
              "    </tr>\n",
              "    <tr>\n",
              "      <th>684904</th>\n",
              "      <td>2020-06-22</td>\n",
              "      <td>SP</td>\n",
              "      <td>Óleo</td>\n",
              "      <td>city</td>\n",
              "      <td>1</td>\n",
              "      <td>0</td>\n",
              "      <td>4</td>\n",
              "      <td>False</td>\n",
              "      <td>2496.0</td>\n",
              "      <td>3533809.0</td>\n",
              "      <td>40.0641</td>\n",
              "      <td>0.0</td>\n",
              "    </tr>\n",
              "    <tr>\n",
              "      <th>684905</th>\n",
              "      <td>2020-06-21</td>\n",
              "      <td>SP</td>\n",
              "      <td>Óleo</td>\n",
              "      <td>city</td>\n",
              "      <td>1</td>\n",
              "      <td>0</td>\n",
              "      <td>3</td>\n",
              "      <td>False</td>\n",
              "      <td>2496.0</td>\n",
              "      <td>3533809.0</td>\n",
              "      <td>40.0641</td>\n",
              "      <td>0.0</td>\n",
              "    </tr>\n",
              "    <tr>\n",
              "      <th>684906</th>\n",
              "      <td>2020-06-20</td>\n",
              "      <td>SP</td>\n",
              "      <td>Óleo</td>\n",
              "      <td>city</td>\n",
              "      <td>1</td>\n",
              "      <td>0</td>\n",
              "      <td>2</td>\n",
              "      <td>False</td>\n",
              "      <td>2496.0</td>\n",
              "      <td>3533809.0</td>\n",
              "      <td>40.0641</td>\n",
              "      <td>0.0</td>\n",
              "    </tr>\n",
              "    <tr>\n",
              "      <th>684907</th>\n",
              "      <td>2020-06-19</td>\n",
              "      <td>SP</td>\n",
              "      <td>Óleo</td>\n",
              "      <td>city</td>\n",
              "      <td>1</td>\n",
              "      <td>0</td>\n",
              "      <td>1</td>\n",
              "      <td>False</td>\n",
              "      <td>2496.0</td>\n",
              "      <td>3533809.0</td>\n",
              "      <td>40.0641</td>\n",
              "      <td>0.0</td>\n",
              "    </tr>\n",
              "  </tbody>\n",
              "</table>\n",
              "</div>"
            ],
            "text/plain": [
              "              date state  ... confirmed_per_100k_inhabitants death_rate\n",
              "684903  2020-06-23    SP  ...                        40.0641        0.0\n",
              "684904  2020-06-22    SP  ...                        40.0641        0.0\n",
              "684905  2020-06-21    SP  ...                        40.0641        0.0\n",
              "684906  2020-06-20    SP  ...                        40.0641        0.0\n",
              "684907  2020-06-19    SP  ...                        40.0641        0.0\n",
              "\n",
              "[5 rows x 12 columns]"
            ]
          },
          "metadata": {
            "tags": []
          },
          "execution_count": 5
        }
      ]
    },
    {
      "cell_type": "code",
      "metadata": {
        "id": "oF7gAJj7bRoz",
        "colab_type": "code",
        "colab": {}
      },
      "source": [
        "#covid.rename(columns ={'ObservationDate':'Date','Country/Region':'Country'}, inplace=True)\n",
        "covid.rename(columns ={'date':'Date','state':'Country','deaths':'Deaths','confirmed':'Confirmed'}, inplace=True)"
      ],
      "execution_count": 6,
      "outputs": []
    },
    {
      "cell_type": "code",
      "metadata": {
        "id": "OZUPpW_yb0H1",
        "colab_type": "code",
        "colab": {
          "base_uri": "https://localhost:8080/",
          "height": 204
        },
        "outputId": "4e5f8259-606e-4e0f-ab24-66915e16aa42"
      },
      "source": [
        "covid.tail()"
      ],
      "execution_count": 7,
      "outputs": [
        {
          "output_type": "execute_result",
          "data": {
            "text/html": [
              "<div>\n",
              "<style scoped>\n",
              "    .dataframe tbody tr th:only-of-type {\n",
              "        vertical-align: middle;\n",
              "    }\n",
              "\n",
              "    .dataframe tbody tr th {\n",
              "        vertical-align: top;\n",
              "    }\n",
              "\n",
              "    .dataframe thead th {\n",
              "        text-align: right;\n",
              "    }\n",
              "</style>\n",
              "<table border=\"1\" class=\"dataframe\">\n",
              "  <thead>\n",
              "    <tr style=\"text-align: right;\">\n",
              "      <th></th>\n",
              "      <th>Date</th>\n",
              "      <th>Country</th>\n",
              "      <th>city</th>\n",
              "      <th>place_type</th>\n",
              "      <th>Confirmed</th>\n",
              "      <th>Deaths</th>\n",
              "      <th>order_for_place</th>\n",
              "      <th>is_last</th>\n",
              "      <th>estimated_population_2019</th>\n",
              "      <th>city_ibge_code</th>\n",
              "      <th>confirmed_per_100k_inhabitants</th>\n",
              "      <th>death_rate</th>\n",
              "    </tr>\n",
              "  </thead>\n",
              "  <tbody>\n",
              "    <tr>\n",
              "      <th>684903</th>\n",
              "      <td>2020-06-23</td>\n",
              "      <td>SP</td>\n",
              "      <td>Óleo</td>\n",
              "      <td>city</td>\n",
              "      <td>1</td>\n",
              "      <td>0</td>\n",
              "      <td>5</td>\n",
              "      <td>False</td>\n",
              "      <td>2496.0</td>\n",
              "      <td>3533809.0</td>\n",
              "      <td>40.0641</td>\n",
              "      <td>0.0</td>\n",
              "    </tr>\n",
              "    <tr>\n",
              "      <th>684904</th>\n",
              "      <td>2020-06-22</td>\n",
              "      <td>SP</td>\n",
              "      <td>Óleo</td>\n",
              "      <td>city</td>\n",
              "      <td>1</td>\n",
              "      <td>0</td>\n",
              "      <td>4</td>\n",
              "      <td>False</td>\n",
              "      <td>2496.0</td>\n",
              "      <td>3533809.0</td>\n",
              "      <td>40.0641</td>\n",
              "      <td>0.0</td>\n",
              "    </tr>\n",
              "    <tr>\n",
              "      <th>684905</th>\n",
              "      <td>2020-06-21</td>\n",
              "      <td>SP</td>\n",
              "      <td>Óleo</td>\n",
              "      <td>city</td>\n",
              "      <td>1</td>\n",
              "      <td>0</td>\n",
              "      <td>3</td>\n",
              "      <td>False</td>\n",
              "      <td>2496.0</td>\n",
              "      <td>3533809.0</td>\n",
              "      <td>40.0641</td>\n",
              "      <td>0.0</td>\n",
              "    </tr>\n",
              "    <tr>\n",
              "      <th>684906</th>\n",
              "      <td>2020-06-20</td>\n",
              "      <td>SP</td>\n",
              "      <td>Óleo</td>\n",
              "      <td>city</td>\n",
              "      <td>1</td>\n",
              "      <td>0</td>\n",
              "      <td>2</td>\n",
              "      <td>False</td>\n",
              "      <td>2496.0</td>\n",
              "      <td>3533809.0</td>\n",
              "      <td>40.0641</td>\n",
              "      <td>0.0</td>\n",
              "    </tr>\n",
              "    <tr>\n",
              "      <th>684907</th>\n",
              "      <td>2020-06-19</td>\n",
              "      <td>SP</td>\n",
              "      <td>Óleo</td>\n",
              "      <td>city</td>\n",
              "      <td>1</td>\n",
              "      <td>0</td>\n",
              "      <td>1</td>\n",
              "      <td>False</td>\n",
              "      <td>2496.0</td>\n",
              "      <td>3533809.0</td>\n",
              "      <td>40.0641</td>\n",
              "      <td>0.0</td>\n",
              "    </tr>\n",
              "  </tbody>\n",
              "</table>\n",
              "</div>"
            ],
            "text/plain": [
              "              Date Country  ... confirmed_per_100k_inhabitants death_rate\n",
              "684903  2020-06-23      SP  ...                        40.0641        0.0\n",
              "684904  2020-06-22      SP  ...                        40.0641        0.0\n",
              "684905  2020-06-21      SP  ...                        40.0641        0.0\n",
              "684906  2020-06-20      SP  ...                        40.0641        0.0\n",
              "684907  2020-06-19      SP  ...                        40.0641        0.0\n",
              "\n",
              "[5 rows x 12 columns]"
            ]
          },
          "metadata": {
            "tags": []
          },
          "execution_count": 7
        }
      ]
    },
    {
      "cell_type": "code",
      "metadata": {
        "id": "43j2he-svooM",
        "colab_type": "code",
        "colab": {}
      },
      "source": [
        "from datetime import datetime as dt"
      ],
      "execution_count": 8,
      "outputs": []
    },
    {
      "cell_type": "code",
      "metadata": {
        "id": "y8yroDdFb5u0",
        "colab_type": "code",
        "colab": {}
      },
      "source": [
        "# numero de mortes\n",
        "mortes = covid.groupby('Date').sum()['Deaths'].reset_index()\n",
        "mortes.tail()\n",
        "mortes['Date'] = pd.to_datetime(mortes['Date'])"
      ],
      "execution_count": 9,
      "outputs": []
    },
    {
      "cell_type": "code",
      "metadata": {
        "id": "QybuowzGJOdT",
        "colab_type": "code",
        "colab": {}
      },
      "source": [
        "confirmados = covid.groupby('Date').sum()['Confirmed'].reset_index()\n",
        "confirmados.tail()\n",
        "confirmados['Date'] = pd.to_datetime(confirmados['Date'])"
      ],
      "execution_count": 10,
      "outputs": []
    },
    {
      "cell_type": "code",
      "metadata": {
        "id": "GOP1Zko1KN2O",
        "colab_type": "code",
        "colab": {}
      },
      "source": [
        "confirmados.columns = ['ds','y']"
      ],
      "execution_count": 11,
      "outputs": []
    },
    {
      "cell_type": "code",
      "metadata": {
        "id": "iwrAiwZpcvy6",
        "colab_type": "code",
        "colab": {
          "base_uri": "https://localhost:8080/",
          "height": 204
        },
        "outputId": "1054bca8-1ae3-497f-d935-fcc7d9704529"
      },
      "source": [
        "# tratamento dos dados para o prophet - renomeando\n",
        "mortes.columns = ['ds','y']\n",
        "mortes.tail()"
      ],
      "execution_count": 12,
      "outputs": [
        {
          "output_type": "execute_result",
          "data": {
            "text/html": [
              "<div>\n",
              "<style scoped>\n",
              "    .dataframe tbody tr th:only-of-type {\n",
              "        vertical-align: middle;\n",
              "    }\n",
              "\n",
              "    .dataframe tbody tr th {\n",
              "        vertical-align: top;\n",
              "    }\n",
              "\n",
              "    .dataframe thead th {\n",
              "        text-align: right;\n",
              "    }\n",
              "</style>\n",
              "<table border=\"1\" class=\"dataframe\">\n",
              "  <thead>\n",
              "    <tr style=\"text-align: right;\">\n",
              "      <th></th>\n",
              "      <th>ds</th>\n",
              "      <th>y</th>\n",
              "    </tr>\n",
              "  </thead>\n",
              "  <tbody>\n",
              "    <tr>\n",
              "      <th>198</th>\n",
              "      <td>2020-09-10</td>\n",
              "      <td>250559</td>\n",
              "    </tr>\n",
              "    <tr>\n",
              "      <th>199</th>\n",
              "      <td>2020-09-11</td>\n",
              "      <td>251851</td>\n",
              "    </tr>\n",
              "    <tr>\n",
              "      <th>200</th>\n",
              "      <td>2020-09-12</td>\n",
              "      <td>247192</td>\n",
              "    </tr>\n",
              "    <tr>\n",
              "      <th>201</th>\n",
              "      <td>2020-09-13</td>\n",
              "      <td>234893</td>\n",
              "    </tr>\n",
              "    <tr>\n",
              "      <th>202</th>\n",
              "      <td>2020-09-14</td>\n",
              "      <td>217106</td>\n",
              "    </tr>\n",
              "  </tbody>\n",
              "</table>\n",
              "</div>"
            ],
            "text/plain": [
              "            ds       y\n",
              "198 2020-09-10  250559\n",
              "199 2020-09-11  251851\n",
              "200 2020-09-12  247192\n",
              "201 2020-09-13  234893\n",
              "202 2020-09-14  217106"
            ]
          },
          "metadata": {
            "tags": []
          },
          "execution_count": 12
        }
      ]
    },
    {
      "cell_type": "code",
      "metadata": {
        "id": "l9tbAG0OKdrd",
        "colab_type": "code",
        "colab": {
          "base_uri": "https://localhost:8080/",
          "height": 204
        },
        "outputId": "02082e34-0dcc-47f0-ac74-ad1b1202e8b3"
      },
      "source": [
        "confirmados['ds'] = pd.to_datetime(confirmados['ds'])\n",
        "confirmados.tail()"
      ],
      "execution_count": 13,
      "outputs": [
        {
          "output_type": "execute_result",
          "data": {
            "text/html": [
              "<div>\n",
              "<style scoped>\n",
              "    .dataframe tbody tr th:only-of-type {\n",
              "        vertical-align: middle;\n",
              "    }\n",
              "\n",
              "    .dataframe tbody tr th {\n",
              "        vertical-align: top;\n",
              "    }\n",
              "\n",
              "    .dataframe thead th {\n",
              "        text-align: right;\n",
              "    }\n",
              "</style>\n",
              "<table border=\"1\" class=\"dataframe\">\n",
              "  <thead>\n",
              "    <tr style=\"text-align: right;\">\n",
              "      <th></th>\n",
              "      <th>ds</th>\n",
              "      <th>y</th>\n",
              "    </tr>\n",
              "  </thead>\n",
              "  <tbody>\n",
              "    <tr>\n",
              "      <th>198</th>\n",
              "      <td>2020-09-10</td>\n",
              "      <td>8112937</td>\n",
              "    </tr>\n",
              "    <tr>\n",
              "      <th>199</th>\n",
              "      <td>2020-09-11</td>\n",
              "      <td>8280124</td>\n",
              "    </tr>\n",
              "    <tr>\n",
              "      <th>200</th>\n",
              "      <td>2020-09-12</td>\n",
              "      <td>8006478</td>\n",
              "    </tr>\n",
              "    <tr>\n",
              "      <th>201</th>\n",
              "      <td>2020-09-13</td>\n",
              "      <td>7978399</td>\n",
              "    </tr>\n",
              "    <tr>\n",
              "      <th>202</th>\n",
              "      <td>2020-09-14</td>\n",
              "      <td>7233536</td>\n",
              "    </tr>\n",
              "  </tbody>\n",
              "</table>\n",
              "</div>"
            ],
            "text/plain": [
              "            ds        y\n",
              "198 2020-09-10  8112937\n",
              "199 2020-09-11  8280124\n",
              "200 2020-09-12  8006478\n",
              "201 2020-09-13  7978399\n",
              "202 2020-09-14  7233536"
            ]
          },
          "metadata": {
            "tags": []
          },
          "execution_count": 13
        }
      ]
    },
    {
      "cell_type": "code",
      "metadata": {
        "id": "jel6oakgd8rV",
        "colab_type": "code",
        "colab": {
          "base_uri": "https://localhost:8080/",
          "height": 204
        },
        "outputId": "fa7bbcef-46fa-4cd8-cd66-f48f0d07c222"
      },
      "source": [
        "# formatando data\n",
        "mortes['ds'] = pd.to_datetime(mortes['ds'])\n",
        "mortes.tail()"
      ],
      "execution_count": 14,
      "outputs": [
        {
          "output_type": "execute_result",
          "data": {
            "text/html": [
              "<div>\n",
              "<style scoped>\n",
              "    .dataframe tbody tr th:only-of-type {\n",
              "        vertical-align: middle;\n",
              "    }\n",
              "\n",
              "    .dataframe tbody tr th {\n",
              "        vertical-align: top;\n",
              "    }\n",
              "\n",
              "    .dataframe thead th {\n",
              "        text-align: right;\n",
              "    }\n",
              "</style>\n",
              "<table border=\"1\" class=\"dataframe\">\n",
              "  <thead>\n",
              "    <tr style=\"text-align: right;\">\n",
              "      <th></th>\n",
              "      <th>ds</th>\n",
              "      <th>y</th>\n",
              "    </tr>\n",
              "  </thead>\n",
              "  <tbody>\n",
              "    <tr>\n",
              "      <th>198</th>\n",
              "      <td>2020-09-10</td>\n",
              "      <td>250559</td>\n",
              "    </tr>\n",
              "    <tr>\n",
              "      <th>199</th>\n",
              "      <td>2020-09-11</td>\n",
              "      <td>251851</td>\n",
              "    </tr>\n",
              "    <tr>\n",
              "      <th>200</th>\n",
              "      <td>2020-09-12</td>\n",
              "      <td>247192</td>\n",
              "    </tr>\n",
              "    <tr>\n",
              "      <th>201</th>\n",
              "      <td>2020-09-13</td>\n",
              "      <td>234893</td>\n",
              "    </tr>\n",
              "    <tr>\n",
              "      <th>202</th>\n",
              "      <td>2020-09-14</td>\n",
              "      <td>217106</td>\n",
              "    </tr>\n",
              "  </tbody>\n",
              "</table>\n",
              "</div>"
            ],
            "text/plain": [
              "            ds       y\n",
              "198 2020-09-10  250559\n",
              "199 2020-09-11  251851\n",
              "200 2020-09-12  247192\n",
              "201 2020-09-13  234893\n",
              "202 2020-09-14  217106"
            ]
          },
          "metadata": {
            "tags": []
          },
          "execution_count": 14
        }
      ]
    },
    {
      "cell_type": "code",
      "metadata": {
        "id": "UbTPNHJFKvjw",
        "colab_type": "code",
        "colab": {
          "base_uri": "https://localhost:8080/",
          "height": 51
        },
        "outputId": "93ec2441-d908-46df-af78-ce2695b7431a"
      },
      "source": [
        "dias = 90\n",
        "m = Prophet(interval_width= 0.95)\n",
        "m.fit(confirmados)\n",
        "futuro = m.make_future_dataframe(periods=dias)"
      ],
      "execution_count": 22,
      "outputs": [
        {
          "output_type": "stream",
          "text": [
            "INFO:fbprophet:Disabling yearly seasonality. Run prophet with yearly_seasonality=True to override this.\n",
            "INFO:fbprophet:Disabling daily seasonality. Run prophet with daily_seasonality=True to override this.\n"
          ],
          "name": "stderr"
        }
      ]
    },
    {
      "cell_type": "code",
      "metadata": {
        "id": "r3QAPQx-eNeZ",
        "colab_type": "code",
        "colab": {
          "base_uri": "https://localhost:8080/",
          "height": 51
        },
        "outputId": "2cfb86d1-6869-4336-a3c3-e51ec6d0dd40"
      },
      "source": [
        "# uso do prophet\n",
        "dias = 30\n",
        "m = Prophet(interval_width= 0.95)\n",
        "m.fit(mortes)\n",
        "futuro = m.make_future_dataframe(periods=dias)"
      ],
      "execution_count": 16,
      "outputs": [
        {
          "output_type": "stream",
          "text": [
            "INFO:fbprophet:Disabling yearly seasonality. Run prophet with yearly_seasonality=True to override this.\n",
            "INFO:fbprophet:Disabling daily seasonality. Run prophet with daily_seasonality=True to override this.\n"
          ],
          "name": "stderr"
        }
      ]
    },
    {
      "cell_type": "code",
      "metadata": {
        "id": "lnV1-VzwfJ8U",
        "colab_type": "code",
        "colab": {}
      },
      "source": [
        "#futuro.tail(dias)"
      ],
      "execution_count": null,
      "outputs": []
    },
    {
      "cell_type": "code",
      "metadata": {
        "id": "deDKjkSafcL8",
        "colab_type": "code",
        "colab": {}
      },
      "source": [
        "previsao = m.predict(futuro)\n",
        "#previsao.tail(dias)"
      ],
      "execution_count": 23,
      "outputs": []
    },
    {
      "cell_type": "code",
      "metadata": {
        "id": "mG3eMJwKfqJj",
        "colab_type": "code",
        "colab": {
          "base_uri": "https://localhost:8080/",
          "height": 419
        },
        "outputId": "fb84e1da-37d0-40ca-a6ae-8191e2e92edc"
      },
      "source": [
        "previsao[['ds', 'yhat_lower','yhat','yhat_upper']].tail(dias)"
      ],
      "execution_count": 24,
      "outputs": [
        {
          "output_type": "execute_result",
          "data": {
            "text/html": [
              "<div>\n",
              "<style scoped>\n",
              "    .dataframe tbody tr th:only-of-type {\n",
              "        vertical-align: middle;\n",
              "    }\n",
              "\n",
              "    .dataframe tbody tr th {\n",
              "        vertical-align: top;\n",
              "    }\n",
              "\n",
              "    .dataframe thead th {\n",
              "        text-align: right;\n",
              "    }\n",
              "</style>\n",
              "<table border=\"1\" class=\"dataframe\">\n",
              "  <thead>\n",
              "    <tr style=\"text-align: right;\">\n",
              "      <th></th>\n",
              "      <th>ds</th>\n",
              "      <th>yhat_lower</th>\n",
              "      <th>yhat</th>\n",
              "      <th>yhat_upper</th>\n",
              "    </tr>\n",
              "  </thead>\n",
              "  <tbody>\n",
              "    <tr>\n",
              "      <th>203</th>\n",
              "      <td>2020-09-15</td>\n",
              "      <td>8.236039e+06</td>\n",
              "      <td>8.506523e+06</td>\n",
              "      <td>8.754400e+06</td>\n",
              "    </tr>\n",
              "    <tr>\n",
              "      <th>204</th>\n",
              "      <td>2020-09-16</td>\n",
              "      <td>8.348718e+06</td>\n",
              "      <td>8.595401e+06</td>\n",
              "      <td>8.869817e+06</td>\n",
              "    </tr>\n",
              "    <tr>\n",
              "      <th>205</th>\n",
              "      <td>2020-09-17</td>\n",
              "      <td>8.362622e+06</td>\n",
              "      <td>8.652691e+06</td>\n",
              "      <td>8.911405e+06</td>\n",
              "    </tr>\n",
              "    <tr>\n",
              "      <th>206</th>\n",
              "      <td>2020-09-18</td>\n",
              "      <td>8.443173e+06</td>\n",
              "      <td>8.729450e+06</td>\n",
              "      <td>9.013931e+06</td>\n",
              "    </tr>\n",
              "    <tr>\n",
              "      <th>207</th>\n",
              "      <td>2020-09-19</td>\n",
              "      <td>8.444092e+06</td>\n",
              "      <td>8.718468e+06</td>\n",
              "      <td>8.993889e+06</td>\n",
              "    </tr>\n",
              "    <tr>\n",
              "      <th>...</th>\n",
              "      <td>...</td>\n",
              "      <td>...</td>\n",
              "      <td>...</td>\n",
              "      <td>...</td>\n",
              "    </tr>\n",
              "    <tr>\n",
              "      <th>288</th>\n",
              "      <td>2020-12-09</td>\n",
              "      <td>1.285112e+07</td>\n",
              "      <td>1.443104e+07</td>\n",
              "      <td>1.627663e+07</td>\n",
              "    </tr>\n",
              "    <tr>\n",
              "      <th>289</th>\n",
              "      <td>2020-12-10</td>\n",
              "      <td>1.277951e+07</td>\n",
              "      <td>1.448833e+07</td>\n",
              "      <td>1.644528e+07</td>\n",
              "    </tr>\n",
              "    <tr>\n",
              "      <th>290</th>\n",
              "      <td>2020-12-11</td>\n",
              "      <td>1.286822e+07</td>\n",
              "      <td>1.456509e+07</td>\n",
              "      <td>1.648327e+07</td>\n",
              "    </tr>\n",
              "    <tr>\n",
              "      <th>291</th>\n",
              "      <td>2020-12-12</td>\n",
              "      <td>1.285391e+07</td>\n",
              "      <td>1.455411e+07</td>\n",
              "      <td>1.646403e+07</td>\n",
              "    </tr>\n",
              "    <tr>\n",
              "      <th>292</th>\n",
              "      <td>2020-12-13</td>\n",
              "      <td>1.291345e+07</td>\n",
              "      <td>1.467738e+07</td>\n",
              "      <td>1.664776e+07</td>\n",
              "    </tr>\n",
              "  </tbody>\n",
              "</table>\n",
              "<p>90 rows × 4 columns</p>\n",
              "</div>"
            ],
            "text/plain": [
              "            ds    yhat_lower          yhat    yhat_upper\n",
              "203 2020-09-15  8.236039e+06  8.506523e+06  8.754400e+06\n",
              "204 2020-09-16  8.348718e+06  8.595401e+06  8.869817e+06\n",
              "205 2020-09-17  8.362622e+06  8.652691e+06  8.911405e+06\n",
              "206 2020-09-18  8.443173e+06  8.729450e+06  9.013931e+06\n",
              "207 2020-09-19  8.444092e+06  8.718468e+06  8.993889e+06\n",
              "..         ...           ...           ...           ...\n",
              "288 2020-12-09  1.285112e+07  1.443104e+07  1.627663e+07\n",
              "289 2020-12-10  1.277951e+07  1.448833e+07  1.644528e+07\n",
              "290 2020-12-11  1.286822e+07  1.456509e+07  1.648327e+07\n",
              "291 2020-12-12  1.285391e+07  1.455411e+07  1.646403e+07\n",
              "292 2020-12-13  1.291345e+07  1.467738e+07  1.664776e+07\n",
              "\n",
              "[90 rows x 4 columns]"
            ]
          },
          "metadata": {
            "tags": []
          },
          "execution_count": 24
        }
      ]
    },
    {
      "cell_type": "code",
      "metadata": {
        "id": "H8g4D0AbgQR1",
        "colab_type": "code",
        "colab": {
          "base_uri": "https://localhost:8080/",
          "height": 441
        },
        "outputId": "fa1d45db-24df-4d0d-8154-cacb21239c5e"
      },
      "source": [
        "confirmed_forecast_plot = m.plot(previsao)"
      ],
      "execution_count": 19,
      "outputs": [
        {
          "output_type": "display_data",
          "data": {
            "image/png": "[encoded data removed]",
            "text/plain": [
              "<Figure size 720x432 with 1 Axes>"
            ]
          },
          "metadata": {
            "tags": []
          }
        }
      ]
    },
    {
      "cell_type": "code",
      "metadata": {
        "id": "AkoFdJAEgrW8",
        "colab_type": "code",
        "colab": {
          "base_uri": "https://localhost:8080/",
          "height": 441
        },
        "outputId": "db68264d-434f-46d8-ab71-df743ecba94c"
      },
      "source": [
        "fig2 = m.plot_components(previsao)"
      ],
      "execution_count": 25,
      "outputs": [
        {
          "output_type": "display_data",
          "data": {
            "image/png": "[encoded data removed]",
            "text/plain": [
              "<Figure size 648x432 with 2 Axes>"
            ]
          },
          "metadata": {
            "tags": []
          }
        }
      ]
    }
  ]
}