{
  "nbformat": 4,
  "nbformat_minor": 0,
  "metadata": {
    "colab": {
      "name": "covid_19.ipynb",
      "provenance": [],
      "collapsed_sections": [],
      "authorship_tag": "ABX9TyNpyACNoiy/lMoCzaUvvsOG",
      "include_colab_link": true
    },
    "kernelspec": {
      "name": "python3",
      "display_name": "Python 3"
    }
  },
  "cells": [
    {
      "cell_type": "markdown",
      "metadata": {
        "id": "view-in-github",
        "colab_type": "text"
      },
      "source": [
        "<a href=\"https://colab.research.google.com/github/sclaudiobr/covid2019/blob/master/covid_19.ipynb\" target=\"_parent\"><img src=\"https://colab.research.google.com/assets/colab-badge.svg\" alt=\"Open In Colab\"/></a>"
      ]
    },
    {
      "cell_type": "markdown",
      "metadata": {
        "id": "s-IC-eXCdLJW",
        "colab_type": "text"
      },
      "source": [
        "# Prophet - previsão de dados com framework prophet\n",
        "\n",
        "## Formato de dados e colunas\n",
        "<p> datas (ds)\n",
        "<p> variável (y)\n",
        "\n",
        "*por: Claudio R. O da Silva*"
      ]
    },
    {
      "cell_type": "code",
      "metadata": {
        "id": "8F5BhWkfaozS",
        "colab_type": "code",
        "colab": {}
      },
      "source": [
        "import pandas as pd\n",
        "import numpy as np\n",
        "from fbprophet import Prophet"
      ],
      "execution_count": null,
      "outputs": []
    },
    {
      "cell_type": "code",
      "metadata": {
        "id": "s6OWQOiRa3dX",
        "colab_type": "code",
        "colab": {
          "base_uri": "https://localhost:8080/",
          "height": 238
        },
        "outputId": "82008ae8-8a9f-42ab-a133-59859ca67bf5"
      },
      "source": [
        "# Aqui, configuramos o acesso ao reposiório e exportação para o formato pandas Dataframe (tabela)\n",
        "# Observe que aqui usei o terminal LINUX do COLAB para a importacao e descompactação do arquivo.\n",
        "!wget https://data.brasil.io/dataset/covid19/caso.csv.gz\n",
        "!gunzip caso.csv.gz\n",
        "df = pd.read_csv(\"caso.csv\")\n",
        "df.head(10)\n",
        "covid = df"
      ],
      "execution_count": 4,
      "outputs": [
        {
          "output_type": "stream",
          "text": [
            "--2020-09-15 18:08:13--  https://data.brasil.io/dataset/covid19/caso.csv.gz\n",
            "Resolving data.brasil.io (data.brasil.io)... 104.26.8.175, 172.67.71.45, 104.26.9.175, ...\n",
            "Connecting to data.brasil.io (data.brasil.io)|104.26.8.175|:443... connected.\n",
            "HTTP request sent, awaiting response... 200 OK\n",
            "Length: 7268335 (6.9M) [application/gzip]\n",
            "Saving to: ‘caso.csv.gz’\n",
            "\n",
            "caso.csv.gz         100%[===================>]   6.93M  8.05MB/s    in 0.9s    \n",
            "\n",
            "2020-09-15 18:08:14 (8.05 MB/s) - ‘caso.csv.gz’ saved [7268335/7268335]\n",
            "\n",
            "gzip: caso.csv already exists; do you wish to overwrite (y or n)? n\n",
            "\tnot overwritten\n"
          ],
          "name": "stdout"
        }
      ]
    },
    {
      "cell_type": "code",
      "metadata": {
        "id": "kjsSaPQpbPE9",
        "colab_type": "code",
        "colab": {
          "base_uri": "https://localhost:8080/",
          "height": 204
        },
        "outputId": "c09e5423-398f-4aa2-862c-cb3fd944da46"
      },
      "source": [
        "covid.tail()"
      ],
      "execution_count": 5,
      "outputs": [
        {
          "output_type": "execute_result",
          "data": {
            "text/html": [
              "<div>\n",
              "<style scoped>\n",
              "    .dataframe tbody tr th:only-of-type {\n",
              "        vertical-align: middle;\n",
              "    }\n",
              "\n",
              "    .dataframe tbody tr th {\n",
              "        vertical-align: top;\n",
              "    }\n",
              "\n",
              "    .dataframe thead th {\n",
              "        text-align: right;\n",
              "    }\n",
              "</style>\n",
              "<table border=\"1\" class=\"dataframe\">\n",
              "  <thead>\n",
              "    <tr style=\"text-align: right;\">\n",
              "      <th></th>\n",
              "      <th>date</th>\n",
              "      <th>state</th>\n",
              "      <th>city</th>\n",
              "      <th>place_type</th>\n",
              "      <th>confirmed</th>\n",
              "      <th>deaths</th>\n",
              "      <th>order_for_place</th>\n",
              "      <th>is_last</th>\n",
              "      <th>estimated_population_2019</th>\n",
              "      <th>city_ibge_code</th>\n",
              "      <th>confirmed_per_100k_inhabitants</th>\n",
              "      <th>death_rate</th>\n",
              "    </tr>\n",
              "  </thead>\n",
              "  <tbody>\n",
              "    <tr>\n",
              "      <th>684903</th>\n",
              "      <td>2020-06-23</td>\n",
              "      <td>SP</td>\n",
              "      <td>Óleo</td>\n",
              "      <td>city</td>\n",
              "      <td>1</td>\n",
              "      <td>0</td>\n",
              "      <td>5</td>\n",
              "      <td>False</td>\n",
              "      <td>2496.0</td>\n",
              "      <td>3533809.0</td>\n",
              "      <td>40.0641</td>\n",
              "      <td>0.0</td>\n",
              "    </tr>\n",
              "    <tr>\n",
              "      <th>684904</th>\n",
              "      <td>2020-06-22</td>\n",
              "      <td>SP</td>\n",
              "      <td>Óleo</td>\n",
              "      <td>city</td>\n",
              "      <td>1</td>\n",
              "      <td>0</td>\n",
              "      <td>4</td>\n",
              "      <td>False</td>\n",
              "      <td>2496.0</td>\n",
              "      <td>3533809.0</td>\n",
              "      <td>40.0641</td>\n",
              "      <td>0.0</td>\n",
              "    </tr>\n",
              "    <tr>\n",
              "      <th>684905</th>\n",
              "      <td>2020-06-21</td>\n",
              "      <td>SP</td>\n",
              "      <td>Óleo</td>\n",
              "      <td>city</td>\n",
              "      <td>1</td>\n",
              "      <td>0</td>\n",
              "      <td>3</td>\n",
              "      <td>False</td>\n",
              "      <td>2496.0</td>\n",
              "      <td>3533809.0</td>\n",
              "      <td>40.0641</td>\n",
              "      <td>0.0</td>\n",
              "    </tr>\n",
              "    <tr>\n",
              "      <th>684906</th>\n",
              "      <td>2020-06-20</td>\n",
              "      <td>SP</td>\n",
              "      <td>Óleo</td>\n",
              "      <td>city</td>\n",
              "      <td>1</td>\n",
              "      <td>0</td>\n",
              "      <td>2</td>\n",
              "      <td>False</td>\n",
              "      <td>2496.0</td>\n",
              "      <td>3533809.0</td>\n",
              "      <td>40.0641</td>\n",
              "      <td>0.0</td>\n",
              "    </tr>\n",
              "    <tr>\n",
              "      <th>684907</th>\n",
              "      <td>2020-06-19</td>\n",
              "      <td>SP</td>\n",
              "      <td>Óleo</td>\n",
              "      <td>city</td>\n",
              "      <td>1</td>\n",
              "      <td>0</td>\n",
              "      <td>1</td>\n",
              "      <td>False</td>\n",
              "      <td>2496.0</td>\n",
              "      <td>3533809.0</td>\n",
              "      <td>40.0641</td>\n",
              "      <td>0.0</td>\n",
              "    </tr>\n",
              "  </tbody>\n",
              "</table>\n",
              "</div>"
            ],
            "text/plain": [
              "              date state  ... confirmed_per_100k_inhabitants death_rate\n",
              "684903  2020-06-23    SP  ...                        40.0641        0.0\n",
              "684904  2020-06-22    SP  ...                        40.0641        0.0\n",
              "684905  2020-06-21    SP  ...                        40.0641        0.0\n",
              "684906  2020-06-20    SP  ...                        40.0641        0.0\n",
              "684907  2020-06-19    SP  ...                        40.0641        0.0\n",
              "\n",
              "[5 rows x 12 columns]"
            ]
          },
          "metadata": {
            "tags": []
          },
          "execution_count": 5
        }
      ]
    },
    {
      "cell_type": "code",
      "metadata": {
        "id": "oF7gAJj7bRoz",
        "colab_type": "code",
        "colab": {}
      },
      "source": [
        "#covid.rename(columns ={'ObservationDate':'Date','Country/Region':'Country'}, inplace=True)\n",
        "covid.rename(columns ={'date':'Date','state':'Country','deaths':'Deaths','confirmed':'Confirmed'}, inplace=True)"
      ],
      "execution_count": 6,
      "outputs": []
    },
    {
      "cell_type": "code",
      "metadata": {
        "id": "OZUPpW_yb0H1",
        "colab_type": "code",
        "colab": {
          "base_uri": "https://localhost:8080/",
          "height": 204
        },
        "outputId": "4e5f8259-606e-4e0f-ab24-66915e16aa42"
      },
      "source": [
        "covid.tail()"
      ],
      "execution_count": 7,
      "outputs": [
        {
          "output_type": "execute_result",
          "data": {
            "text/html": [
              "<div>\n",
              "<style scoped>\n",
              "    .dataframe tbody tr th:only-of-type {\n",
              "        vertical-align: middle;\n",
              "    }\n",
              "\n",
              "    .dataframe tbody tr th {\n",
              "        vertical-align: top;\n",
              "    }\n",
              "\n",
              "    .dataframe thead th {\n",
              "        text-align: right;\n",
              "    }\n",
              "</style>\n",
              "<table border=\"1\" class=\"dataframe\">\n",
              "  <thead>\n",
              "    <tr style=\"text-align: right;\">\n",
              "      <th></th>\n",
              "      <th>Date</th>\n",
              "      <th>Country</th>\n",
              "      <th>city</th>\n",
              "      <th>place_type</th>\n",
              "      <th>Confirmed</th>\n",
              "      <th>Deaths</th>\n",
              "      <th>order_for_place</th>\n",
              "      <th>is_last</th>\n",
              "      <th>estimated_population_2019</th>\n",
              "      <th>city_ibge_code</th>\n",
              "      <th>confirmed_per_100k_inhabitants</th>\n",
              "      <th>death_rate</th>\n",
              "    </tr>\n",
              "  </thead>\n",
              "  <tbody>\n",
              "    <tr>\n",
              "      <th>684903</th>\n",
              "      <td>2020-06-23</td>\n",
              "      <td>SP</td>\n",
              "      <td>Óleo</td>\n",
              "      <td>city</td>\n",
              "      <td>1</td>\n",
              "      <td>0</td>\n",
              "      <td>5</td>\n",
              "      <td>False</td>\n",
              "      <td>2496.0</td>\n",
              "      <td>3533809.0</td>\n",
              "      <td>40.0641</td>\n",
              "      <td>0.0</td>\n",
              "    </tr>\n",
              "    <tr>\n",
              "      <th>684904</th>\n",
              "      <td>2020-06-22</td>\n",
              "      <td>SP</td>\n",
              "      <td>Óleo</td>\n",
              "      <td>city</td>\n",
              "      <td>1</td>\n",
              "      <td>0</td>\n",
              "      <td>4</td>\n",
              "      <td>False</td>\n",
              "      <td>2496.0</td>\n",
              "      <td>3533809.0</td>\n",
              "      <td>40.0641</td>\n",
              "      <td>0.0</td>\n",
              "    </tr>\n",
              "    <tr>\n",
              "      <th>684905</th>\n",
              "      <td>2020-06-21</td>\n",
              "      <td>SP</td>\n",
              "      <td>Óleo</td>\n",
              "      <td>city</td>\n",
              "      <td>1</td>\n",
              "      <td>0</td>\n",
              "      <td>3</td>\n",
              "      <td>False</td>\n",
              "      <td>2496.0</td>\n",
              "      <td>3533809.0</td>\n",
              "      <td>40.0641</td>\n",
              "      <td>0.0</td>\n",
              "    </tr>\n",
              "    <tr>\n",
              "      <th>684906</th>\n",
              "      <td>2020-06-20</td>\n",
              "      <td>SP</td>\n",
              "      <td>Óleo</td>\n",
              "      <td>city</td>\n",
              "      <td>1</td>\n",
              "      <td>0</td>\n",
              "      <td>2</td>\n",
              "      <td>False</td>\n",
              "      <td>2496.0</td>\n",
              "      <td>3533809.0</td>\n",
              "      <td>40.0641</td>\n",
              "      <td>0.0</td>\n",
              "    </tr>\n",
              "    <tr>\n",
              "      <th>684907</th>\n",
              "      <td>2020-06-19</td>\n",
              "      <td>SP</td>\n",
              "      <td>Óleo</td>\n",
              "      <td>city</td>\n",
              "      <td>1</td>\n",
              "      <td>0</td>\n",
              "      <td>1</td>\n",
              "      <td>False</td>\n",
              "      <td>2496.0</td>\n",
              "      <td>3533809.0</td>\n",
              "      <td>40.0641</td>\n",
              "      <td>0.0</td>\n",
              "    </tr>\n",
              "  </tbody>\n",
              "</table>\n",
              "</div>"
            ],
            "text/plain": [
              "              Date Country  ... confirmed_per_100k_inhabitants death_rate\n",
              "684903  2020-06-23      SP  ...                        40.0641        0.0\n",
              "684904  2020-06-22      SP  ...                        40.0641        0.0\n",
              "684905  2020-06-21      SP  ...                        40.0641        0.0\n",
              "684906  2020-06-20      SP  ...                        40.0641        0.0\n",
              "684907  2020-06-19      SP  ...                        40.0641        0.0\n",
              "\n",
              "[5 rows x 12 columns]"
            ]
          },
          "metadata": {
            "tags": []
          },
          "execution_count": 7
        }
      ]
    },
    {
      "cell_type": "code",
      "metadata": {
        "id": "43j2he-svooM",
        "colab_type": "code",
        "colab": {}
      },
      "source": [
        "from datetime import datetime as dt"
      ],
      "execution_count": 8,
      "outputs": []
    },
    {
      "cell_type": "code",
      "metadata": {
        "id": "y8yroDdFb5u0",
        "colab_type": "code",
        "colab": {}
      },
      "source": [
        "# numero de mortes\n",
        "mortes = covid.groupby('Date').sum()['Deaths'].reset_index()\n",
        "mortes.tail()\n",
        "mortes['Date'] = pd.to_datetime(mortes['Date'])"
      ],
      "execution_count": 9,
      "outputs": []
    },
    {
      "cell_type": "code",
      "metadata": {
        "id": "QybuowzGJOdT",
        "colab_type": "code",
        "colab": {}
      },
      "source": [
        "confirmados = covid.groupby('Date').sum()['Confirmed'].reset_index()\n",
        "confirmados.tail()\n",
        "confirmados['Date'] = pd.to_datetime(confirmados['Date'])"
      ],
      "execution_count": 10,
      "outputs": []
    },
    {
      "cell_type": "code",
      "metadata": {
        "id": "GOP1Zko1KN2O",
        "colab_type": "code",
        "colab": {}
      },
      "source": [
        "confirmados.columns = ['ds','y']"
      ],
      "execution_count": 11,
      "outputs": []
    },
    {
      "cell_type": "code",
      "metadata": {
        "id": "iwrAiwZpcvy6",
        "colab_type": "code",
        "colab": {
          "base_uri": "https://localhost:8080/",
          "height": 204
        },
        "outputId": "1054bca8-1ae3-497f-d935-fcc7d9704529"
      },
      "source": [
        "# tratamento dos dados para o prophet - renomeando\n",
        "mortes.columns = ['ds','y']\n",
        "mortes.tail()"
      ],
      "execution_count": 12,
      "outputs": [
        {
          "output_type": "execute_result",
          "data": {
            "text/html": [
              "<div>\n",
              "<style scoped>\n",
              "    .dataframe tbody tr th:only-of-type {\n",
              "        vertical-align: middle;\n",
              "    }\n",
              "\n",
              "    .dataframe tbody tr th {\n",
              "        vertical-align: top;\n",
              "    }\n",
              "\n",
              "    .dataframe thead th {\n",
              "        text-align: right;\n",
              "    }\n",
              "</style>\n",
              "<table border=\"1\" class=\"dataframe\">\n",
              "  <thead>\n",
              "    <tr style=\"text-align: right;\">\n",
              "      <th></th>\n",
              "      <th>ds</th>\n",
              "      <th>y</th>\n",
              "    </tr>\n",
              "  </thead>\n",
              "  <tbody>\n",
              "    <tr>\n",
              "      <th>198</th>\n",
              "      <td>2020-09-10</td>\n",
              "      <td>250559</td>\n",
              "    </tr>\n",
              "    <tr>\n",
              "      <th>199</th>\n",
              "      <td>2020-09-11</td>\n",
              "      <td>251851</td>\n",
              "    </tr>\n",
              "    <tr>\n",
              "      <th>200</th>\n",
              "      <td>2020-09-12</td>\n",
              "      <td>247192</td>\n",
              "    </tr>\n",
              "    <tr>\n",
              "      <th>201</th>\n",
              "      <td>2020-09-13</td>\n",
              "      <td>234893</td>\n",
              "    </tr>\n",
              "    <tr>\n",
              "      <th>202</th>\n",
              "      <td>2020-09-14</td>\n",
              "      <td>217106</td>\n",
              "    </tr>\n",
              "  </tbody>\n",
              "</table>\n",
              "</div>"
            ],
            "text/plain": [
              "            ds       y\n",
              "198 2020-09-10  250559\n",
              "199 2020-09-11  251851\n",
              "200 2020-09-12  247192\n",
              "201 2020-09-13  234893\n",
              "202 2020-09-14  217106"
            ]
          },
          "metadata": {
            "tags": []
          },
          "execution_count": 12
        }
      ]
    },
    {
      "cell_type": "code",
      "metadata": {
        "id": "l9tbAG0OKdrd",
        "colab_type": "code",
        "colab": {
          "base_uri": "https://localhost:8080/",
          "height": 204
        },
        "outputId": "02082e34-0dcc-47f0-ac74-ad1b1202e8b3"
      },
      "source": [
        "confirmados['ds'] = pd.to_datetime(confirmados['ds'])\n",
        "confirmados.tail()"
      ],
      "execution_count": 13,
      "outputs": [
        {
          "output_type": "execute_result",
          "data": {
            "text/html": [
              "<div>\n",
              "<style scoped>\n",
              "    .dataframe tbody tr th:only-of-type {\n",
              "        vertical-align: middle;\n",
              "    }\n",
              "\n",
              "    .dataframe tbody tr th {\n",
              "        vertical-align: top;\n",
              "    }\n",
              "\n",
              "    .dataframe thead th {\n",
              "        text-align: right;\n",
              "    }\n",
              "</style>\n",
              "<table border=\"1\" class=\"dataframe\">\n",
              "  <thead>\n",
              "    <tr style=\"text-align: right;\">\n",
              "      <th></th>\n",
              "      <th>ds</th>\n",
              "      <th>y</th>\n",
              "    </tr>\n",
              "  </thead>\n",
              "  <tbody>\n",
              "    <tr>\n",
              "      <th>198</th>\n",
              "      <td>2020-09-10</td>\n",
              "      <td>8112937</td>\n",
              "    </tr>\n",
              "    <tr>\n",
              "      <th>199</th>\n",
              "      <td>2020-09-11</td>\n",
              "      <td>8280124</td>\n",
              "    </tr>\n",
              "    <tr>\n",
              "      <th>200</th>\n",
              "      <td>2020-09-12</td>\n",
              "      <td>8006478</td>\n",
              "    </tr>\n",
              "    <tr>\n",
              "      <th>201</th>\n",
              "      <td>2020-09-13</td>\n",
              "      <td>7978399</td>\n",
              "    </tr>\n",
              "    <tr>\n",
              "      <th>202</th>\n",
              "      <td>2020-09-14</td>\n",
              "      <td>7233536</td>\n",
              "    </tr>\n",
              "  </tbody>\n",
              "</table>\n",
              "</div>"
            ],
            "text/plain": [
              "            ds        y\n",
              "198 2020-09-10  8112937\n",
              "199 2020-09-11  8280124\n",
              "200 2020-09-12  8006478\n",
              "201 2020-09-13  7978399\n",
              "202 2020-09-14  7233536"
            ]
          },
          "metadata": {
            "tags": []
          },
          "execution_count": 13
        }
      ]
    },
    {
      "cell_type": "code",
      "metadata": {
        "id": "jel6oakgd8rV",
        "colab_type": "code",
        "colab": {
          "base_uri": "https://localhost:8080/",
          "height": 204
        },
        "outputId": "fa7bbcef-46fa-4cd8-cd66-f48f0d07c222"
      },
      "source": [
        "# formatando data\n",
        "mortes['ds'] = pd.to_datetime(mortes['ds'])\n",
        "mortes.tail()"
      ],
      "execution_count": 14,
      "outputs": [
        {
          "output_type": "execute_result",
          "data": {
            "text/html": [
              "<div>\n",
              "<style scoped>\n",
              "    .dataframe tbody tr th:only-of-type {\n",
              "        vertical-align: middle;\n",
              "    }\n",
              "\n",
              "    .dataframe tbody tr th {\n",
              "        vertical-align: top;\n",
              "    }\n",
              "\n",
              "    .dataframe thead th {\n",
              "        text-align: right;\n",
              "    }\n",
              "</style>\n",
              "<table border=\"1\" class=\"dataframe\">\n",
              "  <thead>\n",
              "    <tr style=\"text-align: right;\">\n",
              "      <th></th>\n",
              "      <th>ds</th>\n",
              "      <th>y</th>\n",
              "    </tr>\n",
              "  </thead>\n",
              "  <tbody>\n",
              "    <tr>\n",
              "      <th>198</th>\n",
              "      <td>2020-09-10</td>\n",
              "      <td>250559</td>\n",
              "    </tr>\n",
              "    <tr>\n",
              "      <th>199</th>\n",
              "      <td>2020-09-11</td>\n",
              "      <td>251851</td>\n",
              "    </tr>\n",
              "    <tr>\n",
              "      <th>200</th>\n",
              "      <td>2020-09-12</td>\n",
              "      <td>247192</td>\n",
              "    </tr>\n",
              "    <tr>\n",
              "      <th>201</th>\n",
              "      <td>2020-09-13</td>\n",
              "      <td>234893</td>\n",
              "    </tr>\n",
              "    <tr>\n",
              "      <th>202</th>\n",
              "      <td>2020-09-14</td>\n",
              "      <td>217106</td>\n",
              "    </tr>\n",
              "  </tbody>\n",
              "</table>\n",
              "</div>"
            ],
            "text/plain": [
              "            ds       y\n",
              "198 2020-09-10  250559\n",
              "199 2020-09-11  251851\n",
              "200 2020-09-12  247192\n",
              "201 2020-09-13  234893\n",
              "202 2020-09-14  217106"
            ]
          },
          "metadata": {
            "tags": []
          },
          "execution_count": 14
        }
      ]
    },
    {
      "cell_type": "code",
      "metadata": {
        "id": "UbTPNHJFKvjw",
        "colab_type": "code",
        "colab": {
          "base_uri": "https://localhost:8080/",
          "height": 68
        },
        "outputId": "6f05f2c3-97d2-4210-ddcd-e80e3a290e93"
      },
      "source": [
        "dias = 90\n",
        "m = Prophet(interval_width= 0.95)\n",
        "m.fit(confirmados)\n",
        "futuro = m.make_future_dataframe(periods=dias)"
      ],
      "execution_count": 15,
      "outputs": [
        {
          "output_type": "stream",
          "text": [
            "INFO:numexpr.utils:NumExpr defaulting to 2 threads.\n",
            "INFO:fbprophet:Disabling yearly seasonality. Run prophet with yearly_seasonality=True to override this.\n",
            "INFO:fbprophet:Disabling daily seasonality. Run prophet with daily_seasonality=True to override this.\n"
          ],
          "name": "stderr"
        }
      ]
    },
    {
      "cell_type": "code",
      "metadata": {
        "id": "r3QAPQx-eNeZ",
        "colab_type": "code",
        "colab": {
          "base_uri": "https://localhost:8080/",
          "height": 51
        },
        "outputId": "2cfb86d1-6869-4336-a3c3-e51ec6d0dd40"
      },
      "source": [
        "# uso do prophet\n",
        "dias = 30\n",
        "m = Prophet(interval_width= 0.95)\n",
        "m.fit(mortes)\n",
        "futuro = m.make_future_dataframe(periods=dias)"
      ],
      "execution_count": 16,
      "outputs": [
        {
          "output_type": "stream",
          "text": [
            "INFO:fbprophet:Disabling yearly seasonality. Run prophet with yearly_seasonality=True to override this.\n",
            "INFO:fbprophet:Disabling daily seasonality. Run prophet with daily_seasonality=True to override this.\n"
          ],
          "name": "stderr"
        }
      ]
    },
    {
      "cell_type": "code",
      "metadata": {
        "id": "lnV1-VzwfJ8U",
        "colab_type": "code",
        "colab": {}
      },
      "source": [
        "#futuro.tail(dias)"
      ],
      "execution_count": null,
      "outputs": []
    },
    {
      "cell_type": "code",
      "metadata": {
        "id": "deDKjkSafcL8",
        "colab_type": "code",
        "colab": {}
      },
      "source": [
        "previsao = m.predict(futuro)\n",
        "#previsao.tail(dias)"
      ],
      "execution_count": 17,
      "outputs": []
    },
    {
      "cell_type": "code",
      "metadata": {
        "id": "mG3eMJwKfqJj",
        "colab_type": "code",
        "colab": {
          "base_uri": "https://localhost:8080/",
          "height": 979
        },
        "outputId": "6c3a9746-ab8a-4245-a94b-c9560a6c8a55"
      },
      "source": [
        "previsao[['ds', 'yhat_lower','yhat','yhat_upper']].tail(dias)"
      ],
      "execution_count": 18,
      "outputs": [
        {
          "output_type": "execute_result",
          "data": {
            "text/html": [
              "<div>\n",
              "<style scoped>\n",
              "    .dataframe tbody tr th:only-of-type {\n",
              "        vertical-align: middle;\n",
              "    }\n",
              "\n",
              "    .dataframe tbody tr th {\n",
              "        vertical-align: top;\n",
              "    }\n",
              "\n",
              "    .dataframe thead th {\n",
              "        text-align: right;\n",
              "    }\n",
              "</style>\n",
              "<table border=\"1\" class=\"dataframe\">\n",
              "  <thead>\n",
              "    <tr style=\"text-align: right;\">\n",
              "      <th></th>\n",
              "      <th>ds</th>\n",
              "      <th>yhat_lower</th>\n",
              "      <th>yhat</th>\n",
              "      <th>yhat_upper</th>\n",
              "    </tr>\n",
              "  </thead>\n",
              "  <tbody>\n",
              "    <tr>\n",
              "      <th>203</th>\n",
              "      <td>2020-09-15</td>\n",
              "      <td>244910.886273</td>\n",
              "      <td>254920.483583</td>\n",
              "      <td>265454.637325</td>\n",
              "    </tr>\n",
              "    <tr>\n",
              "      <th>204</th>\n",
              "      <td>2020-09-16</td>\n",
              "      <td>246082.269085</td>\n",
              "      <td>257075.589750</td>\n",
              "      <td>266351.673007</td>\n",
              "    </tr>\n",
              "    <tr>\n",
              "      <th>205</th>\n",
              "      <td>2020-09-17</td>\n",
              "      <td>248095.802732</td>\n",
              "      <td>258343.196341</td>\n",
              "      <td>268583.290589</td>\n",
              "    </tr>\n",
              "    <tr>\n",
              "      <th>206</th>\n",
              "      <td>2020-09-18</td>\n",
              "      <td>249017.398253</td>\n",
              "      <td>259287.577950</td>\n",
              "      <td>269259.728539</td>\n",
              "    </tr>\n",
              "    <tr>\n",
              "      <th>207</th>\n",
              "      <td>2020-09-19</td>\n",
              "      <td>247531.112853</td>\n",
              "      <td>257943.398650</td>\n",
              "      <td>267258.189911</td>\n",
              "    </tr>\n",
              "    <tr>\n",
              "      <th>208</th>\n",
              "      <td>2020-09-20</td>\n",
              "      <td>252272.665560</td>\n",
              "      <td>261754.637249</td>\n",
              "      <td>271505.331690</td>\n",
              "    </tr>\n",
              "    <tr>\n",
              "      <th>209</th>\n",
              "      <td>2020-09-21</td>\n",
              "      <td>252390.250785</td>\n",
              "      <td>261484.526117</td>\n",
              "      <td>271108.495682</td>\n",
              "    </tr>\n",
              "    <tr>\n",
              "      <th>210</th>\n",
              "      <td>2020-09-22</td>\n",
              "      <td>254923.341031</td>\n",
              "      <td>265527.697003</td>\n",
              "      <td>275870.666912</td>\n",
              "    </tr>\n",
              "    <tr>\n",
              "      <th>211</th>\n",
              "      <td>2020-09-23</td>\n",
              "      <td>257023.027905</td>\n",
              "      <td>267682.803170</td>\n",
              "      <td>278959.814565</td>\n",
              "    </tr>\n",
              "    <tr>\n",
              "      <th>212</th>\n",
              "      <td>2020-09-24</td>\n",
              "      <td>258842.634896</td>\n",
              "      <td>268950.409761</td>\n",
              "      <td>278638.654415</td>\n",
              "    </tr>\n",
              "    <tr>\n",
              "      <th>213</th>\n",
              "      <td>2020-09-25</td>\n",
              "      <td>260016.441551</td>\n",
              "      <td>269894.791370</td>\n",
              "      <td>280456.008659</td>\n",
              "    </tr>\n",
              "    <tr>\n",
              "      <th>214</th>\n",
              "      <td>2020-09-26</td>\n",
              "      <td>257744.704666</td>\n",
              "      <td>268550.612070</td>\n",
              "      <td>279329.724093</td>\n",
              "    </tr>\n",
              "    <tr>\n",
              "      <th>215</th>\n",
              "      <td>2020-09-27</td>\n",
              "      <td>261450.896250</td>\n",
              "      <td>272361.850669</td>\n",
              "      <td>282891.436441</td>\n",
              "    </tr>\n",
              "    <tr>\n",
              "      <th>216</th>\n",
              "      <td>2020-09-28</td>\n",
              "      <td>261676.662040</td>\n",
              "      <td>272091.739536</td>\n",
              "      <td>282559.424475</td>\n",
              "    </tr>\n",
              "    <tr>\n",
              "      <th>217</th>\n",
              "      <td>2020-09-29</td>\n",
              "      <td>266359.523706</td>\n",
              "      <td>276134.910422</td>\n",
              "      <td>286579.453487</td>\n",
              "    </tr>\n",
              "    <tr>\n",
              "      <th>218</th>\n",
              "      <td>2020-09-30</td>\n",
              "      <td>267936.914861</td>\n",
              "      <td>278290.016590</td>\n",
              "      <td>289450.687651</td>\n",
              "    </tr>\n",
              "    <tr>\n",
              "      <th>219</th>\n",
              "      <td>2020-10-01</td>\n",
              "      <td>268830.431248</td>\n",
              "      <td>279557.623181</td>\n",
              "      <td>290448.227559</td>\n",
              "    </tr>\n",
              "    <tr>\n",
              "      <th>220</th>\n",
              "      <td>2020-10-02</td>\n",
              "      <td>270279.994164</td>\n",
              "      <td>280502.004790</td>\n",
              "      <td>291184.951004</td>\n",
              "    </tr>\n",
              "    <tr>\n",
              "      <th>221</th>\n",
              "      <td>2020-10-03</td>\n",
              "      <td>268323.980484</td>\n",
              "      <td>279157.825490</td>\n",
              "      <td>290333.056961</td>\n",
              "    </tr>\n",
              "    <tr>\n",
              "      <th>222</th>\n",
              "      <td>2020-10-04</td>\n",
              "      <td>271827.364678</td>\n",
              "      <td>282969.064088</td>\n",
              "      <td>294934.575195</td>\n",
              "    </tr>\n",
              "    <tr>\n",
              "      <th>223</th>\n",
              "      <td>2020-10-05</td>\n",
              "      <td>271423.468019</td>\n",
              "      <td>282698.952956</td>\n",
              "      <td>294718.773273</td>\n",
              "    </tr>\n",
              "    <tr>\n",
              "      <th>224</th>\n",
              "      <td>2020-10-06</td>\n",
              "      <td>275392.030404</td>\n",
              "      <td>286742.123842</td>\n",
              "      <td>298908.894642</td>\n",
              "    </tr>\n",
              "    <tr>\n",
              "      <th>225</th>\n",
              "      <td>2020-10-07</td>\n",
              "      <td>277215.544476</td>\n",
              "      <td>288897.230010</td>\n",
              "      <td>300828.636834</td>\n",
              "    </tr>\n",
              "    <tr>\n",
              "      <th>226</th>\n",
              "      <td>2020-10-08</td>\n",
              "      <td>278921.625898</td>\n",
              "      <td>290164.836601</td>\n",
              "      <td>302332.501225</td>\n",
              "    </tr>\n",
              "    <tr>\n",
              "      <th>227</th>\n",
              "      <td>2020-10-09</td>\n",
              "      <td>277840.538099</td>\n",
              "      <td>291109.218210</td>\n",
              "      <td>303201.080409</td>\n",
              "    </tr>\n",
              "    <tr>\n",
              "      <th>228</th>\n",
              "      <td>2020-10-10</td>\n",
              "      <td>278024.531764</td>\n",
              "      <td>289765.038910</td>\n",
              "      <td>302783.085846</td>\n",
              "    </tr>\n",
              "    <tr>\n",
              "      <th>229</th>\n",
              "      <td>2020-10-11</td>\n",
              "      <td>280274.322644</td>\n",
              "      <td>293576.277508</td>\n",
              "      <td>306322.135679</td>\n",
              "    </tr>\n",
              "    <tr>\n",
              "      <th>230</th>\n",
              "      <td>2020-10-12</td>\n",
              "      <td>281148.578198</td>\n",
              "      <td>293306.166376</td>\n",
              "      <td>307301.915095</td>\n",
              "    </tr>\n",
              "    <tr>\n",
              "      <th>231</th>\n",
              "      <td>2020-10-13</td>\n",
              "      <td>284565.143409</td>\n",
              "      <td>297349.337262</td>\n",
              "      <td>311278.011477</td>\n",
              "    </tr>\n",
              "    <tr>\n",
              "      <th>232</th>\n",
              "      <td>2020-10-14</td>\n",
              "      <td>286570.880106</td>\n",
              "      <td>299504.443430</td>\n",
              "      <td>313355.926536</td>\n",
              "    </tr>\n",
              "  </tbody>\n",
              "</table>\n",
              "</div>"
            ],
            "text/plain": [
              "            ds     yhat_lower           yhat     yhat_upper\n",
              "203 2020-09-15  244910.886273  254920.483583  265454.637325\n",
              "204 2020-09-16  246082.269085  257075.589750  266351.673007\n",
              "205 2020-09-17  248095.802732  258343.196341  268583.290589\n",
              "206 2020-09-18  249017.398253  259287.577950  269259.728539\n",
              "207 2020-09-19  247531.112853  257943.398650  267258.189911\n",
              "208 2020-09-20  252272.665560  261754.637249  271505.331690\n",
              "209 2020-09-21  252390.250785  261484.526117  271108.495682\n",
              "210 2020-09-22  254923.341031  265527.697003  275870.666912\n",
              "211 2020-09-23  257023.027905  267682.803170  278959.814565\n",
              "212 2020-09-24  258842.634896  268950.409761  278638.654415\n",
              "213 2020-09-25  260016.441551  269894.791370  280456.008659\n",
              "214 2020-09-26  257744.704666  268550.612070  279329.724093\n",
              "215 2020-09-27  261450.896250  272361.850669  282891.436441\n",
              "216 2020-09-28  261676.662040  272091.739536  282559.424475\n",
              "217 2020-09-29  266359.523706  276134.910422  286579.453487\n",
              "218 2020-09-30  267936.914861  278290.016590  289450.687651\n",
              "219 2020-10-01  268830.431248  279557.623181  290448.227559\n",
              "220 2020-10-02  270279.994164  280502.004790  291184.951004\n",
              "221 2020-10-03  268323.980484  279157.825490  290333.056961\n",
              "222 2020-10-04  271827.364678  282969.064088  294934.575195\n",
              "223 2020-10-05  271423.468019  282698.952956  294718.773273\n",
              "224 2020-10-06  275392.030404  286742.123842  298908.894642\n",
              "225 2020-10-07  277215.544476  288897.230010  300828.636834\n",
              "226 2020-10-08  278921.625898  290164.836601  302332.501225\n",
              "227 2020-10-09  277840.538099  291109.218210  303201.080409\n",
              "228 2020-10-10  278024.531764  289765.038910  302783.085846\n",
              "229 2020-10-11  280274.322644  293576.277508  306322.135679\n",
              "230 2020-10-12  281148.578198  293306.166376  307301.915095\n",
              "231 2020-10-13  284565.143409  297349.337262  311278.011477\n",
              "232 2020-10-14  286570.880106  299504.443430  313355.926536"
            ]
          },
          "metadata": {
            "tags": []
          },
          "execution_count": 18
        }
      ]
    },
    {
      "cell_type": "code",
      "metadata": {
        "id": "H8g4D0AbgQR1",
        "colab_type": "code",
        "colab": {
          "base_uri": "https://localhost:8080/",
          "height": 441
        },
        "outputId": "fa1d45db-24df-4d0d-8154-cacb21239c5e"
      },
      "source": [
        "confirmed_forecast_plot = m.plot(previsao)"
      ],
      "execution_count": 19,
      "outputs": [
        {
          "output_type": "display_data",
          "data": {
            "image/png": "[encoded data removed]",
            "text/plain": [
              "<Figure size 720x432 with 1 Axes>"
            ]
          },
          "metadata": {
            "tags": []
          }
        }
      ]
    },
    {
      "cell_type": "code",
      "metadata": {
        "id": "AkoFdJAEgrW8",
        "colab_type": "code",
        "colab": {
          "base_uri": "https://localhost:8080/",
          "height": 441
        },
        "outputId": "8cb50552-e3b3-4bf9-d699-1e5b279135c2"
      },
      "source": [
        "fig2 = m.plot_components(previsao)"
      ],
      "execution_count": 20,
      "outputs": [
        {
          "output_type": "display_data",
          "data": {
            "image/png": "[encoded data removed]",
            "text/plain": [
              "<Figure size 648x432 with 2 Axes>"
            ]
          },
          "metadata": {
            "tags": []
          }
        }
      ]
    }
  ]
}